{
 "cells": [
  {
   "cell_type": "markdown",
   "metadata": {},
   "source": [
    "# Heart Failure Prediction"
   ]
  },
  {
   "cell_type": "markdown",
   "metadata": {},
   "source": [
    "## Introduction"
   ]
  },
  {
   "cell_type": "markdown",
   "metadata": {},
   "source": [
    "### Goal"
   ]
  },
  {
   "cell_type": "markdown",
   "metadata": {},
   "source": [
    "<p>Creating a model to predict if a patient has heart disease or not.</p>"
   ]
  },
  {
   "cell_type": "markdown",
   "metadata": {},
   "source": [
    "### Context\n",
    "<p>Cardiovascular diseases (CVDs) are the number 1 cause of death globally, taking an estimated 17.9 million lives each year, which accounts for 31% of all deaths worldwide. Four out of 5CVD deaths are due to heart attacks and strokes, and one-third of these deaths occur prematurely in people under 70 years of age. Heart failure is a common event caused by CVDs and this dataset contains 11 features that can be used to predict a possible heart disease.</p>\n",
    "\n",
    "<p>People with cardiovascular disease or who are at high cardiovascular risk (due to the presence of one or more risk factors such as hypertension, diabetes, hyperlipidaemia or already established disease) need early detection and management wherein a machine learning model can be of great help.</p>"
   ]
  },
  {
   "cell_type": "markdown",
   "metadata": {},
   "source": [
    "### Attribute Information\n",
    "<ol>\n",
    "<li>Age: age of the patient [years]</li>\n",
    "<li>Sex: sex of the patient [M: Male, F: Female]</li>\n",
    "<li>ChestPainType: chest pain type [TA: Typical Angina, ATA: Atypical Angina, NAP: Non-Anginal Pain, ASY: Asymptomatic]</li>\n",
    "<li>RestingBP: resting blood pressure [mm Hg]</li>\n",
    "<li>Cholesterol: serum cholesterol [mm/dl]</li>\n",
    "<li>FastingBS: fasting blood sugar [1: if FastingBS > 120 mg/dl, 0: otherwise]</li>\n",
    "<li>RestingECG: resting electrocardiogram results [Normal: Normal, ST: having ST-T wave abnormality (T wave inversions and/or ST elevation or depression of > 0.05 mV), LVH: showing probable or definite left ventricular hypertrophy by Estes' criteria]</li>\n",
    "<li>MaxHR: maximum heart rate achieved [Numeric value between 60 and 202]</li>\n",
    "<li>ExerciseAngina: exercise-induced angina [Y: Yes, N: No]</li>\n",
    "<li>Oldpeak: oldpeak = ST [Numeric value measured in depression]</li>\n",
    "<li>ST_Slope: the slope of the peak exercise ST segment [Up: upsloping, Flat: flat, Down: downsloping]</li>\n",
    "<li>HeartDisease: output class [1: heart disease, 0: Normal]</li>\n",
    "</ol>\n",
    "\n",
    "<p><a href = \"https://www.kaggle.com/datasets/fedesoriano/heart-failure-prediction\">Source of dataset</a></p>"
   ]
  },
  {
   "cell_type": "markdown",
   "metadata": {},
   "source": [
    "## Libraries"
   ]
  },
  {
   "cell_type": "code",
   "execution_count": 189,
   "metadata": {},
   "outputs": [],
   "source": [
    "import pandas as pd\n",
    "import statsmodels.api as sm\n",
    "import seaborn as sns\n",
    "import numpy as np\n",
    "import matplotlib.pyplot as plt\n",
    "import statsmodels.formula.api as smf\n",
    "sns.set_style(\"white\")\n",
    "from sklearn.model_selection import train_test_split\n",
    "import statsmodels.api as sm\n",
    "import statsmodels.formula.api as smf\n",
    "import scipy\n",
    "from statsmodels.stats.outliers_influence import variance_inflation_factor\n",
    "from math import exp\n",
    "from sklearn.metrics import confusion_matrix, accuracy_score, recall_score, precision_score, roc_curve, roc_auc_score"
   ]
  },
  {
   "cell_type": "markdown",
   "metadata": {},
   "source": [
    "## Overview of dataset"
   ]
  },
  {
   "cell_type": "code",
   "execution_count": 190,
   "metadata": {},
   "outputs": [],
   "source": [
    "data = pd.read_csv(r'heart.csv', sep = ',', encoding = 'utf-8-sig')"
   ]
  },
  {
   "cell_type": "code",
   "execution_count": 191,
   "metadata": {},
   "outputs": [
    {
     "data": {
      "text/html": [
       "<div>\n",
       "<style scoped>\n",
       "    .dataframe tbody tr th:only-of-type {\n",
       "        vertical-align: middle;\n",
       "    }\n",
       "\n",
       "    .dataframe tbody tr th {\n",
       "        vertical-align: top;\n",
       "    }\n",
       "\n",
       "    .dataframe thead th {\n",
       "        text-align: right;\n",
       "    }\n",
       "</style>\n",
       "<table border=\"1\" class=\"dataframe\">\n",
       "  <thead>\n",
       "    <tr style=\"text-align: right;\">\n",
       "      <th></th>\n",
       "      <th>Age</th>\n",
       "      <th>Sex</th>\n",
       "      <th>ChestPainType</th>\n",
       "      <th>RestingBP</th>\n",
       "      <th>Cholesterol</th>\n",
       "      <th>FastingBS</th>\n",
       "      <th>RestingECG</th>\n",
       "      <th>MaxHR</th>\n",
       "      <th>ExerciseAngina</th>\n",
       "      <th>Oldpeak</th>\n",
       "      <th>ST_Slope</th>\n",
       "      <th>HeartDisease</th>\n",
       "    </tr>\n",
       "  </thead>\n",
       "  <tbody>\n",
       "    <tr>\n",
       "      <th>0</th>\n",
       "      <td>40</td>\n",
       "      <td>M</td>\n",
       "      <td>ATA</td>\n",
       "      <td>140</td>\n",
       "      <td>289</td>\n",
       "      <td>0</td>\n",
       "      <td>Normal</td>\n",
       "      <td>172</td>\n",
       "      <td>N</td>\n",
       "      <td>0.0</td>\n",
       "      <td>Up</td>\n",
       "      <td>0</td>\n",
       "    </tr>\n",
       "    <tr>\n",
       "      <th>1</th>\n",
       "      <td>49</td>\n",
       "      <td>F</td>\n",
       "      <td>NAP</td>\n",
       "      <td>160</td>\n",
       "      <td>180</td>\n",
       "      <td>0</td>\n",
       "      <td>Normal</td>\n",
       "      <td>156</td>\n",
       "      <td>N</td>\n",
       "      <td>1.0</td>\n",
       "      <td>Flat</td>\n",
       "      <td>1</td>\n",
       "    </tr>\n",
       "    <tr>\n",
       "      <th>2</th>\n",
       "      <td>37</td>\n",
       "      <td>M</td>\n",
       "      <td>ATA</td>\n",
       "      <td>130</td>\n",
       "      <td>283</td>\n",
       "      <td>0</td>\n",
       "      <td>ST</td>\n",
       "      <td>98</td>\n",
       "      <td>N</td>\n",
       "      <td>0.0</td>\n",
       "      <td>Up</td>\n",
       "      <td>0</td>\n",
       "    </tr>\n",
       "    <tr>\n",
       "      <th>3</th>\n",
       "      <td>48</td>\n",
       "      <td>F</td>\n",
       "      <td>ASY</td>\n",
       "      <td>138</td>\n",
       "      <td>214</td>\n",
       "      <td>0</td>\n",
       "      <td>Normal</td>\n",
       "      <td>108</td>\n",
       "      <td>Y</td>\n",
       "      <td>1.5</td>\n",
       "      <td>Flat</td>\n",
       "      <td>1</td>\n",
       "    </tr>\n",
       "    <tr>\n",
       "      <th>4</th>\n",
       "      <td>54</td>\n",
       "      <td>M</td>\n",
       "      <td>NAP</td>\n",
       "      <td>150</td>\n",
       "      <td>195</td>\n",
       "      <td>0</td>\n",
       "      <td>Normal</td>\n",
       "      <td>122</td>\n",
       "      <td>N</td>\n",
       "      <td>0.0</td>\n",
       "      <td>Up</td>\n",
       "      <td>0</td>\n",
       "    </tr>\n",
       "    <tr>\n",
       "      <th>...</th>\n",
       "      <td>...</td>\n",
       "      <td>...</td>\n",
       "      <td>...</td>\n",
       "      <td>...</td>\n",
       "      <td>...</td>\n",
       "      <td>...</td>\n",
       "      <td>...</td>\n",
       "      <td>...</td>\n",
       "      <td>...</td>\n",
       "      <td>...</td>\n",
       "      <td>...</td>\n",
       "      <td>...</td>\n",
       "    </tr>\n",
       "    <tr>\n",
       "      <th>913</th>\n",
       "      <td>45</td>\n",
       "      <td>M</td>\n",
       "      <td>TA</td>\n",
       "      <td>110</td>\n",
       "      <td>264</td>\n",
       "      <td>0</td>\n",
       "      <td>Normal</td>\n",
       "      <td>132</td>\n",
       "      <td>N</td>\n",
       "      <td>1.2</td>\n",
       "      <td>Flat</td>\n",
       "      <td>1</td>\n",
       "    </tr>\n",
       "    <tr>\n",
       "      <th>914</th>\n",
       "      <td>68</td>\n",
       "      <td>M</td>\n",
       "      <td>ASY</td>\n",
       "      <td>144</td>\n",
       "      <td>193</td>\n",
       "      <td>1</td>\n",
       "      <td>Normal</td>\n",
       "      <td>141</td>\n",
       "      <td>N</td>\n",
       "      <td>3.4</td>\n",
       "      <td>Flat</td>\n",
       "      <td>1</td>\n",
       "    </tr>\n",
       "    <tr>\n",
       "      <th>915</th>\n",
       "      <td>57</td>\n",
       "      <td>M</td>\n",
       "      <td>ASY</td>\n",
       "      <td>130</td>\n",
       "      <td>131</td>\n",
       "      <td>0</td>\n",
       "      <td>Normal</td>\n",
       "      <td>115</td>\n",
       "      <td>Y</td>\n",
       "      <td>1.2</td>\n",
       "      <td>Flat</td>\n",
       "      <td>1</td>\n",
       "    </tr>\n",
       "    <tr>\n",
       "      <th>916</th>\n",
       "      <td>57</td>\n",
       "      <td>F</td>\n",
       "      <td>ATA</td>\n",
       "      <td>130</td>\n",
       "      <td>236</td>\n",
       "      <td>0</td>\n",
       "      <td>LVH</td>\n",
       "      <td>174</td>\n",
       "      <td>N</td>\n",
       "      <td>0.0</td>\n",
       "      <td>Flat</td>\n",
       "      <td>1</td>\n",
       "    </tr>\n",
       "    <tr>\n",
       "      <th>917</th>\n",
       "      <td>38</td>\n",
       "      <td>M</td>\n",
       "      <td>NAP</td>\n",
       "      <td>138</td>\n",
       "      <td>175</td>\n",
       "      <td>0</td>\n",
       "      <td>Normal</td>\n",
       "      <td>173</td>\n",
       "      <td>N</td>\n",
       "      <td>0.0</td>\n",
       "      <td>Up</td>\n",
       "      <td>0</td>\n",
       "    </tr>\n",
       "  </tbody>\n",
       "</table>\n",
       "<p>918 rows × 12 columns</p>\n",
       "</div>"
      ],
      "text/plain": [
       "     Age Sex ChestPainType  RestingBP  Cholesterol  FastingBS RestingECG  \\\n",
       "0     40   M           ATA        140          289          0     Normal   \n",
       "1     49   F           NAP        160          180          0     Normal   \n",
       "2     37   M           ATA        130          283          0         ST   \n",
       "3     48   F           ASY        138          214          0     Normal   \n",
       "4     54   M           NAP        150          195          0     Normal   \n",
       "..   ...  ..           ...        ...          ...        ...        ...   \n",
       "913   45   M            TA        110          264          0     Normal   \n",
       "914   68   M           ASY        144          193          1     Normal   \n",
       "915   57   M           ASY        130          131          0     Normal   \n",
       "916   57   F           ATA        130          236          0        LVH   \n",
       "917   38   M           NAP        138          175          0     Normal   \n",
       "\n",
       "     MaxHR ExerciseAngina  Oldpeak ST_Slope  HeartDisease  \n",
       "0      172              N      0.0       Up             0  \n",
       "1      156              N      1.0     Flat             1  \n",
       "2       98              N      0.0       Up             0  \n",
       "3      108              Y      1.5     Flat             1  \n",
       "4      122              N      0.0       Up             0  \n",
       "..     ...            ...      ...      ...           ...  \n",
       "913    132              N      1.2     Flat             1  \n",
       "914    141              N      3.4     Flat             1  \n",
       "915    115              Y      1.2     Flat             1  \n",
       "916    174              N      0.0     Flat             1  \n",
       "917    173              N      0.0       Up             0  \n",
       "\n",
       "[918 rows x 12 columns]"
      ]
     },
     "execution_count": 191,
     "metadata": {},
     "output_type": "execute_result"
    }
   ],
   "source": [
    "data"
   ]
  },
  {
   "cell_type": "code",
   "execution_count": 192,
   "metadata": {},
   "outputs": [
    {
     "name": "stdout",
     "output_type": "stream",
     "text": [
      "<class 'pandas.core.frame.DataFrame'>\n",
      "RangeIndex: 918 entries, 0 to 917\n",
      "Data columns (total 12 columns):\n",
      " #   Column          Non-Null Count  Dtype  \n",
      "---  ------          --------------  -----  \n",
      " 0   Age             918 non-null    int64  \n",
      " 1   Sex             918 non-null    object \n",
      " 2   ChestPainType   918 non-null    object \n",
      " 3   RestingBP       918 non-null    int64  \n",
      " 4   Cholesterol     918 non-null    int64  \n",
      " 5   FastingBS       918 non-null    int64  \n",
      " 6   RestingECG      918 non-null    object \n",
      " 7   MaxHR           918 non-null    int64  \n",
      " 8   ExerciseAngina  918 non-null    object \n",
      " 9   Oldpeak         918 non-null    float64\n",
      " 10  ST_Slope        918 non-null    object \n",
      " 11  HeartDisease    918 non-null    int64  \n",
      "dtypes: float64(1), int64(6), object(5)\n",
      "memory usage: 86.2+ KB\n"
     ]
    }
   ],
   "source": [
    "data.info()"
   ]
  },
  {
   "cell_type": "markdown",
   "metadata": {},
   "source": [
    "Dataset contains 918 observations and 12 variables, where none of them have missing variables."
   ]
  },
  {
   "cell_type": "code",
   "execution_count": 193,
   "metadata": {},
   "outputs": [
    {
     "data": {
      "text/html": [
       "<div>\n",
       "<style scoped>\n",
       "    .dataframe tbody tr th:only-of-type {\n",
       "        vertical-align: middle;\n",
       "    }\n",
       "\n",
       "    .dataframe tbody tr th {\n",
       "        vertical-align: top;\n",
       "    }\n",
       "\n",
       "    .dataframe thead th {\n",
       "        text-align: right;\n",
       "    }\n",
       "</style>\n",
       "<table border=\"1\" class=\"dataframe\">\n",
       "  <thead>\n",
       "    <tr style=\"text-align: right;\">\n",
       "      <th></th>\n",
       "      <th>Age</th>\n",
       "      <th>RestingBP</th>\n",
       "      <th>Cholesterol</th>\n",
       "      <th>FastingBS</th>\n",
       "      <th>MaxHR</th>\n",
       "      <th>Oldpeak</th>\n",
       "      <th>HeartDisease</th>\n",
       "    </tr>\n",
       "  </thead>\n",
       "  <tbody>\n",
       "    <tr>\n",
       "      <th>count</th>\n",
       "      <td>918.00</td>\n",
       "      <td>918.00</td>\n",
       "      <td>918.00</td>\n",
       "      <td>918.00</td>\n",
       "      <td>918.00</td>\n",
       "      <td>918.00</td>\n",
       "      <td>918.00</td>\n",
       "    </tr>\n",
       "    <tr>\n",
       "      <th>mean</th>\n",
       "      <td>53.51</td>\n",
       "      <td>132.40</td>\n",
       "      <td>198.80</td>\n",
       "      <td>0.23</td>\n",
       "      <td>136.81</td>\n",
       "      <td>0.89</td>\n",
       "      <td>0.55</td>\n",
       "    </tr>\n",
       "    <tr>\n",
       "      <th>std</th>\n",
       "      <td>9.43</td>\n",
       "      <td>18.51</td>\n",
       "      <td>109.38</td>\n",
       "      <td>0.42</td>\n",
       "      <td>25.46</td>\n",
       "      <td>1.07</td>\n",
       "      <td>0.50</td>\n",
       "    </tr>\n",
       "    <tr>\n",
       "      <th>min</th>\n",
       "      <td>28.00</td>\n",
       "      <td>0.00</td>\n",
       "      <td>0.00</td>\n",
       "      <td>0.00</td>\n",
       "      <td>60.00</td>\n",
       "      <td>-2.60</td>\n",
       "      <td>0.00</td>\n",
       "    </tr>\n",
       "    <tr>\n",
       "      <th>25%</th>\n",
       "      <td>47.00</td>\n",
       "      <td>120.00</td>\n",
       "      <td>173.25</td>\n",
       "      <td>0.00</td>\n",
       "      <td>120.00</td>\n",
       "      <td>0.00</td>\n",
       "      <td>0.00</td>\n",
       "    </tr>\n",
       "    <tr>\n",
       "      <th>50%</th>\n",
       "      <td>54.00</td>\n",
       "      <td>130.00</td>\n",
       "      <td>223.00</td>\n",
       "      <td>0.00</td>\n",
       "      <td>138.00</td>\n",
       "      <td>0.60</td>\n",
       "      <td>1.00</td>\n",
       "    </tr>\n",
       "    <tr>\n",
       "      <th>75%</th>\n",
       "      <td>60.00</td>\n",
       "      <td>140.00</td>\n",
       "      <td>267.00</td>\n",
       "      <td>0.00</td>\n",
       "      <td>156.00</td>\n",
       "      <td>1.50</td>\n",
       "      <td>1.00</td>\n",
       "    </tr>\n",
       "    <tr>\n",
       "      <th>max</th>\n",
       "      <td>77.00</td>\n",
       "      <td>200.00</td>\n",
       "      <td>603.00</td>\n",
       "      <td>1.00</td>\n",
       "      <td>202.00</td>\n",
       "      <td>6.20</td>\n",
       "      <td>1.00</td>\n",
       "    </tr>\n",
       "  </tbody>\n",
       "</table>\n",
       "</div>"
      ],
      "text/plain": [
       "          Age  RestingBP  Cholesterol  FastingBS   MaxHR  Oldpeak  \\\n",
       "count  918.00     918.00       918.00     918.00  918.00   918.00   \n",
       "mean    53.51     132.40       198.80       0.23  136.81     0.89   \n",
       "std      9.43      18.51       109.38       0.42   25.46     1.07   \n",
       "min     28.00       0.00         0.00       0.00   60.00    -2.60   \n",
       "25%     47.00     120.00       173.25       0.00  120.00     0.00   \n",
       "50%     54.00     130.00       223.00       0.00  138.00     0.60   \n",
       "75%     60.00     140.00       267.00       0.00  156.00     1.50   \n",
       "max     77.00     200.00       603.00       1.00  202.00     6.20   \n",
       "\n",
       "       HeartDisease  \n",
       "count        918.00  \n",
       "mean           0.55  \n",
       "std            0.50  \n",
       "min            0.00  \n",
       "25%            0.00  \n",
       "50%            1.00  \n",
       "75%            1.00  \n",
       "max            1.00  "
      ]
     },
     "execution_count": 193,
     "metadata": {},
     "output_type": "execute_result"
    }
   ],
   "source": [
    "data.describe().round(2)"
   ]
  },
  {
   "cell_type": "markdown",
   "metadata": {},
   "source": [
    "#### Sex and Age"
   ]
  },
  {
   "cell_type": "code",
   "execution_count": 194,
   "metadata": {},
   "outputs": [
    {
     "name": "stdout",
     "output_type": "stream",
     "text": [
      "Pacients broken down by Sex\n",
      "M    725\n",
      "F    193\n",
      "Name: Sex, dtype: int64\n",
      "\n",
      "Pacients broken down by Age\n",
      "28 - 40     92\n",
      "40 - 60    604\n",
      "60 - 77    221\n",
      "Name: Age, dtype: int64\n"
     ]
    }
   ],
   "source": [
    "age = pd.cut(data['Age'], bins = [data['Age'].min(), 40, 60, data['Age'].max()], labels = ['{0} - 40'.format(data['Age'].min()), '40 - 60', '60 - {}'.format(data['Age'].max())]).value_counts().sort_index()\n",
    "print('Pacients broken down by Sex\\n{0}'.format(data['Sex'].value_counts()))\n",
    "print('\\nPacients broken down by Age\\n{0}'.format(age))"
   ]
  },
  {
   "cell_type": "code",
   "execution_count": 195,
   "metadata": {},
   "outputs": [
    {
     "data": {
      "image/png": "[encoded data removed]",
      "text/plain": [
       "<Figure size 864x432 with 2 Axes>"
      ]
     },
     "metadata": {},
     "output_type": "display_data"
    }
   ],
   "source": [
    "fig, ax = plt.subplots(1,2, figsize=(12,6))\n",
    "\n",
    "ax[0].bar(list(data['Sex'].unique()),data['Sex'].value_counts())\n",
    "ax[1].bar(age.index,age, color = 'green')\n",
    "\n",
    "ax[0].set_xlabel('Sex', fontsize = 14, color = 'grey')\n",
    "ax[1].set_xlabel('Age', fontsize = 14, color = 'grey')\n",
    "ax[0].set_ylabel('Count', fontsize = 14, color = 'grey')\n",
    "\n",
    "plt.show()"
   ]
  },
  {
   "cell_type": "code",
   "execution_count": 196,
   "metadata": {},
   "outputs": [
    {
     "data": {
      "text/html": [
       "<div>\n",
       "<style scoped>\n",
       "    .dataframe tbody tr th:only-of-type {\n",
       "        vertical-align: middle;\n",
       "    }\n",
       "\n",
       "    .dataframe tbody tr th {\n",
       "        vertical-align: top;\n",
       "    }\n",
       "\n",
       "    .dataframe thead th {\n",
       "        text-align: right;\n",
       "    }\n",
       "</style>\n",
       "<table border=\"1\" class=\"dataframe\">\n",
       "  <thead>\n",
       "    <tr style=\"text-align: right;\">\n",
       "      <th></th>\n",
       "      <th></th>\n",
       "      <th>Sex</th>\n",
       "    </tr>\n",
       "    <tr>\n",
       "      <th>HeartDisease</th>\n",
       "      <th>Sex</th>\n",
       "      <th></th>\n",
       "    </tr>\n",
       "  </thead>\n",
       "  <tbody>\n",
       "    <tr>\n",
       "      <th rowspan=\"2\" valign=\"top\">0</th>\n",
       "      <th>F</th>\n",
       "      <td>143</td>\n",
       "    </tr>\n",
       "    <tr>\n",
       "      <th>M</th>\n",
       "      <td>267</td>\n",
       "    </tr>\n",
       "    <tr>\n",
       "      <th rowspan=\"2\" valign=\"top\">1</th>\n",
       "      <th>F</th>\n",
       "      <td>50</td>\n",
       "    </tr>\n",
       "    <tr>\n",
       "      <th>M</th>\n",
       "      <td>458</td>\n",
       "    </tr>\n",
       "  </tbody>\n",
       "</table>\n",
       "</div>"
      ],
      "text/plain": [
       "                  Sex\n",
       "HeartDisease Sex     \n",
       "0            F    143\n",
       "             M    267\n",
       "1            F     50\n",
       "             M    458"
      ]
     },
     "execution_count": 196,
     "metadata": {},
     "output_type": "execute_result"
    }
   ],
   "source": [
    "pd.DataFrame(data.groupby(['HeartDisease','Sex'])['Sex'].count())"
   ]
  },
  {
   "cell_type": "code",
   "execution_count": 197,
   "metadata": {},
   "outputs": [
    {
     "name": "stderr",
     "output_type": "stream",
     "text": [
      "/var/folders/wj/shthrvws4t12jrl47m5rjcx00000gn/T/ipykernel_5793/3876190843.py:2: SettingWithCopyWarning: \n",
      "A value is trying to be set on a copy of a slice from a DataFrame.\n",
      "Try using .loc[row_indexer,col_indexer] = value instead\n",
      "\n",
      "See the caveats in the documentation: https://pandas.pydata.org/pandas-docs/stable/user_guide/indexing.html#returning-a-view-versus-a-copy\n",
      "  age_sex['Age'] = pd.cut(age_sex['Age'], bins = [age_sex['Age'].min(), 40, 60, age_sex['Age'].max()], labels = ['{0} - 40'.format(age_sex['Age'].min()), '40 - 60', '60 - {}'.format(age_sex['Age'].max())])\n"
     ]
    }
   ],
   "source": [
    "age_sex = data[['Sex','Age','HeartDisease']]\n",
    "age_sex['Age'] = pd.cut(age_sex['Age'], bins = [age_sex['Age'].min(), 40, 60, age_sex['Age'].max()], labels = ['{0} - 40'.format(age_sex['Age'].min()), '40 - 60', '60 - {}'.format(age_sex['Age'].max())])"
   ]
  },
  {
   "cell_type": "code",
   "execution_count": 198,
   "metadata": {},
   "outputs": [
    {
     "data": {
      "text/html": [
       "<div>\n",
       "<style scoped>\n",
       "    .dataframe tbody tr th:only-of-type {\n",
       "        vertical-align: middle;\n",
       "    }\n",
       "\n",
       "    .dataframe tbody tr th {\n",
       "        vertical-align: top;\n",
       "    }\n",
       "\n",
       "    .dataframe thead th {\n",
       "        text-align: right;\n",
       "    }\n",
       "</style>\n",
       "<table border=\"1\" class=\"dataframe\">\n",
       "  <thead>\n",
       "    <tr style=\"text-align: right;\">\n",
       "      <th></th>\n",
       "      <th></th>\n",
       "      <th></th>\n",
       "      <th>Age</th>\n",
       "    </tr>\n",
       "    <tr>\n",
       "      <th>HeartDisease</th>\n",
       "      <th>Sex</th>\n",
       "      <th>Age</th>\n",
       "      <th></th>\n",
       "    </tr>\n",
       "  </thead>\n",
       "  <tbody>\n",
       "    <tr>\n",
       "      <th rowspan=\"6\" valign=\"top\">0</th>\n",
       "      <th rowspan=\"3\" valign=\"top\">F</th>\n",
       "      <th>28 - 40</th>\n",
       "      <td>16</td>\n",
       "    </tr>\n",
       "    <tr>\n",
       "      <th>40 - 60</th>\n",
       "      <td>101</td>\n",
       "    </tr>\n",
       "    <tr>\n",
       "      <th>60 - 77</th>\n",
       "      <td>26</td>\n",
       "    </tr>\n",
       "    <tr>\n",
       "      <th rowspan=\"3\" valign=\"top\">M</th>\n",
       "      <th>28 - 40</th>\n",
       "      <td>44</td>\n",
       "    </tr>\n",
       "    <tr>\n",
       "      <th>40 - 60</th>\n",
       "      <td>188</td>\n",
       "    </tr>\n",
       "    <tr>\n",
       "      <th>60 - 77</th>\n",
       "      <td>34</td>\n",
       "    </tr>\n",
       "    <tr>\n",
       "      <th rowspan=\"6\" valign=\"top\">1</th>\n",
       "      <th rowspan=\"3\" valign=\"top\">F</th>\n",
       "      <th>28 - 40</th>\n",
       "      <td>4</td>\n",
       "    </tr>\n",
       "    <tr>\n",
       "      <th>40 - 60</th>\n",
       "      <td>27</td>\n",
       "    </tr>\n",
       "    <tr>\n",
       "      <th>60 - 77</th>\n",
       "      <td>19</td>\n",
       "    </tr>\n",
       "    <tr>\n",
       "      <th rowspan=\"3\" valign=\"top\">M</th>\n",
       "      <th>28 - 40</th>\n",
       "      <td>28</td>\n",
       "    </tr>\n",
       "    <tr>\n",
       "      <th>40 - 60</th>\n",
       "      <td>288</td>\n",
       "    </tr>\n",
       "    <tr>\n",
       "      <th>60 - 77</th>\n",
       "      <td>142</td>\n",
       "    </tr>\n",
       "  </tbody>\n",
       "</table>\n",
       "</div>"
      ],
      "text/plain": [
       "                          Age\n",
       "HeartDisease Sex Age         \n",
       "0            F   28 - 40   16\n",
       "                 40 - 60  101\n",
       "                 60 - 77   26\n",
       "             M   28 - 40   44\n",
       "                 40 - 60  188\n",
       "                 60 - 77   34\n",
       "1            F   28 - 40    4\n",
       "                 40 - 60   27\n",
       "                 60 - 77   19\n",
       "             M   28 - 40   28\n",
       "                 40 - 60  288\n",
       "                 60 - 77  142"
      ]
     },
     "execution_count": 198,
     "metadata": {},
     "output_type": "execute_result"
    }
   ],
   "source": [
    "pd.DataFrame(age_sex.groupby(['HeartDisease','Sex','Age'])['Age'].count())"
   ]
  },
  {
   "cell_type": "markdown",
   "metadata": {},
   "source": [
    "Dataset contains 725 mens and 193 womens, where 458 of men and just 50 women have HeartDisease.<br>\n",
    "Looking at patients with heart disease can be seen that 87% of them are men aged between 40 - 60 years old (288).<br>\n",
    "Among women also there are slittly more with heart disease in age 40 - 60 years old."
   ]
  },
  {
   "cell_type": "markdown",
   "metadata": {},
   "source": [
    "### Chest pain type"
   ]
  },
  {
   "cell_type": "code",
   "execution_count": 199,
   "metadata": {},
   "outputs": [
    {
     "data": {
      "text/plain": [
       "ASY    496\n",
       "NAP    203\n",
       "ATA    173\n",
       "TA      46\n",
       "Name: ChestPainType, dtype: int64"
      ]
     },
     "execution_count": 199,
     "metadata": {},
     "output_type": "execute_result"
    }
   ],
   "source": [
    "data['ChestPainType'].value_counts()"
   ]
  },
  {
   "cell_type": "code",
   "execution_count": 200,
   "metadata": {},
   "outputs": [
    {
     "data": {
      "image/png": "[encoded data removed]",
      "text/plain": [
       "<Figure size 864x432 with 1 Axes>"
      ]
     },
     "metadata": {},
     "output_type": "display_data"
    }
   ],
   "source": [
    "plt.figure(figsize=(12,6))\n",
    "plt.barh(list(data['ChestPainType'].value_counts().index), list(data['ChestPainType'].value_counts()))\n",
    "plt.title('Chest Pain Type', fontsize = 18, pad = 20)\n",
    "plt.xlabel('Count', fontsize = 14, color = 'grey')\n",
    "plt.ylabel('Type of pain', fontsize = 14, color = 'grey')\n",
    "plt.margins(0.05)\n",
    "plt.show()"
   ]
  },
  {
   "cell_type": "code",
   "execution_count": 201,
   "metadata": {},
   "outputs": [
    {
     "data": {
      "text/html": [
       "<div>\n",
       "<style scoped>\n",
       "    .dataframe tbody tr th:only-of-type {\n",
       "        vertical-align: middle;\n",
       "    }\n",
       "\n",
       "    .dataframe tbody tr th {\n",
       "        vertical-align: top;\n",
       "    }\n",
       "\n",
       "    .dataframe thead th {\n",
       "        text-align: right;\n",
       "    }\n",
       "</style>\n",
       "<table border=\"1\" class=\"dataframe\">\n",
       "  <thead>\n",
       "    <tr style=\"text-align: right;\">\n",
       "      <th></th>\n",
       "      <th></th>\n",
       "      <th>ChestPainType</th>\n",
       "    </tr>\n",
       "    <tr>\n",
       "      <th>ChestPainType</th>\n",
       "      <th>HeartDisease</th>\n",
       "      <th></th>\n",
       "    </tr>\n",
       "  </thead>\n",
       "  <tbody>\n",
       "    <tr>\n",
       "      <th rowspan=\"2\" valign=\"top\">ASY</th>\n",
       "      <th>0</th>\n",
       "      <td>104</td>\n",
       "    </tr>\n",
       "    <tr>\n",
       "      <th>1</th>\n",
       "      <td>392</td>\n",
       "    </tr>\n",
       "    <tr>\n",
       "      <th rowspan=\"2\" valign=\"top\">ATA</th>\n",
       "      <th>0</th>\n",
       "      <td>149</td>\n",
       "    </tr>\n",
       "    <tr>\n",
       "      <th>1</th>\n",
       "      <td>24</td>\n",
       "    </tr>\n",
       "    <tr>\n",
       "      <th rowspan=\"2\" valign=\"top\">NAP</th>\n",
       "      <th>0</th>\n",
       "      <td>131</td>\n",
       "    </tr>\n",
       "    <tr>\n",
       "      <th>1</th>\n",
       "      <td>72</td>\n",
       "    </tr>\n",
       "    <tr>\n",
       "      <th rowspan=\"2\" valign=\"top\">TA</th>\n",
       "      <th>0</th>\n",
       "      <td>26</td>\n",
       "    </tr>\n",
       "    <tr>\n",
       "      <th>1</th>\n",
       "      <td>20</td>\n",
       "    </tr>\n",
       "  </tbody>\n",
       "</table>\n",
       "</div>"
      ],
      "text/plain": [
       "                            ChestPainType\n",
       "ChestPainType HeartDisease               \n",
       "ASY           0                       104\n",
       "              1                       392\n",
       "ATA           0                       149\n",
       "              1                        24\n",
       "NAP           0                       131\n",
       "              1                        72\n",
       "TA            0                        26\n",
       "              1                        20"
      ]
     },
     "execution_count": 201,
     "metadata": {},
     "output_type": "execute_result"
    }
   ],
   "source": [
    "pd.DataFrame(data.groupby(['ChestPainType','HeartDisease'])['ChestPainType'].count())"
   ]
  },
  {
   "cell_type": "markdown",
   "metadata": {},
   "source": [
    "Neerly 400 people has heart disease with asymptotic chest pain type which also is the most commoc among all types.<br>\n",
    "Looking at pacients with atypical angina there are only 17% of them with heart disease.<br>"
   ]
  },
  {
   "cell_type": "markdown",
   "metadata": {},
   "source": [
    "### Resting BP"
   ]
  },
  {
   "cell_type": "code",
   "execution_count": 202,
   "metadata": {},
   "outputs": [
    {
     "data": {
      "text/html": [
       "<div>\n",
       "<style scoped>\n",
       "    .dataframe tbody tr th:only-of-type {\n",
       "        vertical-align: middle;\n",
       "    }\n",
       "\n",
       "    .dataframe tbody tr th {\n",
       "        vertical-align: top;\n",
       "    }\n",
       "\n",
       "    .dataframe thead th {\n",
       "        text-align: right;\n",
       "    }\n",
       "</style>\n",
       "<table border=\"1\" class=\"dataframe\">\n",
       "  <thead>\n",
       "    <tr style=\"text-align: right;\">\n",
       "      <th></th>\n",
       "      <th>RestingBP</th>\n",
       "    </tr>\n",
       "  </thead>\n",
       "  <tbody>\n",
       "    <tr>\n",
       "      <th>count</th>\n",
       "      <td>918.00</td>\n",
       "    </tr>\n",
       "    <tr>\n",
       "      <th>mean</th>\n",
       "      <td>132.40</td>\n",
       "    </tr>\n",
       "    <tr>\n",
       "      <th>std</th>\n",
       "      <td>18.51</td>\n",
       "    </tr>\n",
       "    <tr>\n",
       "      <th>min</th>\n",
       "      <td>0.00</td>\n",
       "    </tr>\n",
       "    <tr>\n",
       "      <th>25%</th>\n",
       "      <td>120.00</td>\n",
       "    </tr>\n",
       "    <tr>\n",
       "      <th>50%</th>\n",
       "      <td>130.00</td>\n",
       "    </tr>\n",
       "    <tr>\n",
       "      <th>75%</th>\n",
       "      <td>140.00</td>\n",
       "    </tr>\n",
       "    <tr>\n",
       "      <th>max</th>\n",
       "      <td>200.00</td>\n",
       "    </tr>\n",
       "  </tbody>\n",
       "</table>\n",
       "</div>"
      ],
      "text/plain": [
       "       RestingBP\n",
       "count     918.00\n",
       "mean      132.40\n",
       "std        18.51\n",
       "min         0.00\n",
       "25%       120.00\n",
       "50%       130.00\n",
       "75%       140.00\n",
       "max       200.00"
      ]
     },
     "execution_count": 202,
     "metadata": {},
     "output_type": "execute_result"
    }
   ],
   "source": [
    "pd.DataFrame(data['RestingBP'].describe().round(2))"
   ]
  },
  {
   "cell_type": "code",
   "execution_count": 203,
   "metadata": {},
   "outputs": [
    {
     "data": {
      "image/png": "[encoded data removed]",
      "text/plain": [
       "<Figure size 432x288 with 1 Axes>"
      ]
     },
     "metadata": {},
     "output_type": "display_data"
    }
   ],
   "source": [
    "sm.qqplot(data['RestingBP'], fit = True, line = '45')\n",
    "plt.title('Resting blood pressure q-q plot')\n",
    "plt.show()"
   ]
  },
  {
   "cell_type": "markdown",
   "metadata": {},
   "source": [
    "Minimum resting blood pressure is 0, which is an outlier and whole observation will be removed from dataset.<br>\n",
    "Moreover 75% of observations has resting blood pressure less than 140 mmHG."
   ]
  },
  {
   "cell_type": "code",
   "execution_count": 204,
   "metadata": {},
   "outputs": [
    {
     "data": {
      "text/html": [
       "<div>\n",
       "<style scoped>\n",
       "    .dataframe tbody tr th:only-of-type {\n",
       "        vertical-align: middle;\n",
       "    }\n",
       "\n",
       "    .dataframe tbody tr th {\n",
       "        vertical-align: top;\n",
       "    }\n",
       "\n",
       "    .dataframe thead th {\n",
       "        text-align: right;\n",
       "    }\n",
       "</style>\n",
       "<table border=\"1\" class=\"dataframe\">\n",
       "  <thead>\n",
       "    <tr style=\"text-align: right;\">\n",
       "      <th></th>\n",
       "      <th>count</th>\n",
       "      <th>mean</th>\n",
       "      <th>std</th>\n",
       "      <th>min</th>\n",
       "      <th>25%</th>\n",
       "      <th>50%</th>\n",
       "      <th>75%</th>\n",
       "      <th>max</th>\n",
       "    </tr>\n",
       "    <tr>\n",
       "      <th>HeartDisease</th>\n",
       "      <th></th>\n",
       "      <th></th>\n",
       "      <th></th>\n",
       "      <th></th>\n",
       "      <th></th>\n",
       "      <th></th>\n",
       "      <th></th>\n",
       "      <th></th>\n",
       "    </tr>\n",
       "  </thead>\n",
       "  <tbody>\n",
       "    <tr>\n",
       "      <th>0</th>\n",
       "      <td>410.0</td>\n",
       "      <td>130.180488</td>\n",
       "      <td>16.499585</td>\n",
       "      <td>80.0</td>\n",
       "      <td>120.0</td>\n",
       "      <td>130.0</td>\n",
       "      <td>140.0</td>\n",
       "      <td>190.0</td>\n",
       "    </tr>\n",
       "    <tr>\n",
       "      <th>1</th>\n",
       "      <td>508.0</td>\n",
       "      <td>134.185039</td>\n",
       "      <td>19.828685</td>\n",
       "      <td>0.0</td>\n",
       "      <td>120.0</td>\n",
       "      <td>132.0</td>\n",
       "      <td>145.0</td>\n",
       "      <td>200.0</td>\n",
       "    </tr>\n",
       "  </tbody>\n",
       "</table>\n",
       "</div>"
      ],
      "text/plain": [
       "              count        mean        std   min    25%    50%    75%    max\n",
       "HeartDisease                                                                \n",
       "0             410.0  130.180488  16.499585  80.0  120.0  130.0  140.0  190.0\n",
       "1             508.0  134.185039  19.828685   0.0  120.0  132.0  145.0  200.0"
      ]
     },
     "execution_count": 204,
     "metadata": {},
     "output_type": "execute_result"
    }
   ],
   "source": [
    "data.groupby(['HeartDisease'])['RestingBP'].describe()"
   ]
  },
  {
   "cell_type": "markdown",
   "metadata": {},
   "source": [
    "75% of patients with heart disease has resting blood pressure less then 145 mmHG, while ones without heart disease has bp less then 140 mmHG.<br>\n",
    "So difference between people with heartdisease is small."
   ]
  },
  {
   "cell_type": "markdown",
   "metadata": {},
   "source": [
    "### Cholesterol"
   ]
  },
  {
   "cell_type": "code",
   "execution_count": 205,
   "metadata": {},
   "outputs": [
    {
     "data": {
      "text/html": [
       "<div>\n",
       "<style scoped>\n",
       "    .dataframe tbody tr th:only-of-type {\n",
       "        vertical-align: middle;\n",
       "    }\n",
       "\n",
       "    .dataframe tbody tr th {\n",
       "        vertical-align: top;\n",
       "    }\n",
       "\n",
       "    .dataframe thead th {\n",
       "        text-align: right;\n",
       "    }\n",
       "</style>\n",
       "<table border=\"1\" class=\"dataframe\">\n",
       "  <thead>\n",
       "    <tr style=\"text-align: right;\">\n",
       "      <th></th>\n",
       "      <th>Cholesterol</th>\n",
       "    </tr>\n",
       "  </thead>\n",
       "  <tbody>\n",
       "    <tr>\n",
       "      <th>count</th>\n",
       "      <td>918.00</td>\n",
       "    </tr>\n",
       "    <tr>\n",
       "      <th>mean</th>\n",
       "      <td>198.80</td>\n",
       "    </tr>\n",
       "    <tr>\n",
       "      <th>std</th>\n",
       "      <td>109.38</td>\n",
       "    </tr>\n",
       "    <tr>\n",
       "      <th>min</th>\n",
       "      <td>0.00</td>\n",
       "    </tr>\n",
       "    <tr>\n",
       "      <th>25%</th>\n",
       "      <td>173.25</td>\n",
       "    </tr>\n",
       "    <tr>\n",
       "      <th>50%</th>\n",
       "      <td>223.00</td>\n",
       "    </tr>\n",
       "    <tr>\n",
       "      <th>75%</th>\n",
       "      <td>267.00</td>\n",
       "    </tr>\n",
       "    <tr>\n",
       "      <th>max</th>\n",
       "      <td>603.00</td>\n",
       "    </tr>\n",
       "  </tbody>\n",
       "</table>\n",
       "</div>"
      ],
      "text/plain": [
       "       Cholesterol\n",
       "count       918.00\n",
       "mean        198.80\n",
       "std         109.38\n",
       "min           0.00\n",
       "25%         173.25\n",
       "50%         223.00\n",
       "75%         267.00\n",
       "max         603.00"
      ]
     },
     "execution_count": 205,
     "metadata": {},
     "output_type": "execute_result"
    }
   ],
   "source": [
    "pd.DataFrame(data['Cholesterol'].describe().round(2))"
   ]
  },
  {
   "cell_type": "code",
   "execution_count": 206,
   "metadata": {},
   "outputs": [
    {
     "data": {
      "image/png": "[encoded data removed]",
      "text/plain": [
       "<Figure size 432x288 with 1 Axes>"
      ]
     },
     "metadata": {},
     "output_type": "display_data"
    }
   ],
   "source": [
    "sm.qqplot(data['Cholesterol'], line = '45', fit = True)\n",
    "plt.show()"
   ]
  },
  {
   "cell_type": "code",
   "execution_count": 207,
   "metadata": {},
   "outputs": [
    {
     "data": {
      "text/plain": [
       "172"
      ]
     },
     "execution_count": 207,
     "metadata": {},
     "output_type": "execute_result"
    }
   ],
   "source": [
    "data[data['Cholesterol'] == 0].count()[0]"
   ]
  },
  {
   "cell_type": "markdown",
   "metadata": {},
   "source": [
    "There are 171 occurences with cholesterol equal 0. Due to high number of such cases they will not be removed from dataset."
   ]
  },
  {
   "cell_type": "markdown",
   "metadata": {},
   "source": [
    "### FastingBS"
   ]
  },
  {
   "cell_type": "code",
   "execution_count": 208,
   "metadata": {},
   "outputs": [],
   "source": [
    "data['FastingBS'] = data['FastingBS'].map({0:'0', 1:'1'})"
   ]
  },
  {
   "cell_type": "code",
   "execution_count": 209,
   "metadata": {},
   "outputs": [
    {
     "data": {
      "text/html": [
       "<div>\n",
       "<style scoped>\n",
       "    .dataframe tbody tr th:only-of-type {\n",
       "        vertical-align: middle;\n",
       "    }\n",
       "\n",
       "    .dataframe tbody tr th {\n",
       "        vertical-align: top;\n",
       "    }\n",
       "\n",
       "    .dataframe thead th {\n",
       "        text-align: right;\n",
       "    }\n",
       "</style>\n",
       "<table border=\"1\" class=\"dataframe\">\n",
       "  <thead>\n",
       "    <tr style=\"text-align: right;\">\n",
       "      <th></th>\n",
       "      <th>FastingBS</th>\n",
       "    </tr>\n",
       "  </thead>\n",
       "  <tbody>\n",
       "    <tr>\n",
       "      <th>0</th>\n",
       "      <td>704</td>\n",
       "    </tr>\n",
       "    <tr>\n",
       "      <th>1</th>\n",
       "      <td>214</td>\n",
       "    </tr>\n",
       "  </tbody>\n",
       "</table>\n",
       "</div>"
      ],
      "text/plain": [
       "   FastingBS\n",
       "0        704\n",
       "1        214"
      ]
     },
     "execution_count": 209,
     "metadata": {},
     "output_type": "execute_result"
    }
   ],
   "source": [
    "pd.DataFrame(data['FastingBS'].value_counts())"
   ]
  },
  {
   "cell_type": "code",
   "execution_count": 210,
   "metadata": {},
   "outputs": [
    {
     "data": {
      "text/html": [
       "<div>\n",
       "<style scoped>\n",
       "    .dataframe tbody tr th:only-of-type {\n",
       "        vertical-align: middle;\n",
       "    }\n",
       "\n",
       "    .dataframe tbody tr th {\n",
       "        vertical-align: top;\n",
       "    }\n",
       "\n",
       "    .dataframe thead th {\n",
       "        text-align: right;\n",
       "    }\n",
       "</style>\n",
       "<table border=\"1\" class=\"dataframe\">\n",
       "  <thead>\n",
       "    <tr style=\"text-align: right;\">\n",
       "      <th></th>\n",
       "      <th></th>\n",
       "      <th>FastingBS</th>\n",
       "    </tr>\n",
       "    <tr>\n",
       "      <th>FastingBS</th>\n",
       "      <th>HeartDisease</th>\n",
       "      <th></th>\n",
       "    </tr>\n",
       "  </thead>\n",
       "  <tbody>\n",
       "    <tr>\n",
       "      <th rowspan=\"2\" valign=\"top\">0</th>\n",
       "      <th>0</th>\n",
       "      <td>366</td>\n",
       "    </tr>\n",
       "    <tr>\n",
       "      <th>1</th>\n",
       "      <td>338</td>\n",
       "    </tr>\n",
       "    <tr>\n",
       "      <th rowspan=\"2\" valign=\"top\">1</th>\n",
       "      <th>0</th>\n",
       "      <td>44</td>\n",
       "    </tr>\n",
       "    <tr>\n",
       "      <th>1</th>\n",
       "      <td>170</td>\n",
       "    </tr>\n",
       "  </tbody>\n",
       "</table>\n",
       "</div>"
      ],
      "text/plain": [
       "                        FastingBS\n",
       "FastingBS HeartDisease           \n",
       "0         0                   366\n",
       "          1                   338\n",
       "1         0                    44\n",
       "          1                   170"
      ]
     },
     "execution_count": 210,
     "metadata": {},
     "output_type": "execute_result"
    }
   ],
   "source": [
    "pd.DataFrame(data.groupby(['FastingBS','HeartDisease'])['FastingBS'].count())"
   ]
  },
  {
   "cell_type": "markdown",
   "metadata": {},
   "source": [
    "Only 214 people have fasting blood pressure more than 120 mg/dl, while 80% of them has heart disease.</br>\n",
    "On the other hand nearly 50% of people with fasting bs lower than 120 mg/dl has heart disease."
   ]
  },
  {
   "cell_type": "markdown",
   "metadata": {},
   "source": [
    "### RestingECG"
   ]
  },
  {
   "cell_type": "code",
   "execution_count": 211,
   "metadata": {},
   "outputs": [
    {
     "data": {
      "image/png": "[encoded data removed]",
      "text/plain": [
       "<Figure size 864x432 with 1 Axes>"
      ]
     },
     "metadata": {},
     "output_type": "display_data"
    }
   ],
   "source": [
    "plt.figure(figsize=(12,6))\n",
    "plt.barh(list(data['RestingECG'].value_counts().index), list(data['RestingECG'].value_counts()), color='green')\n",
    "plt.title('Resting electrocardiogram results', fontsize = 18, pad = 20)\n",
    "plt.xlabel('Count', fontsize = 14, color = 'grey')\n",
    "plt.ylabel('Type of ECG', fontsize = 14, color = 'grey')\n",
    "plt.margins(0.05)\n",
    "plt.show()"
   ]
  },
  {
   "cell_type": "code",
   "execution_count": 212,
   "metadata": {},
   "outputs": [
    {
     "data": {
      "text/html": [
       "<div>\n",
       "<style scoped>\n",
       "    .dataframe tbody tr th:only-of-type {\n",
       "        vertical-align: middle;\n",
       "    }\n",
       "\n",
       "    .dataframe tbody tr th {\n",
       "        vertical-align: top;\n",
       "    }\n",
       "\n",
       "    .dataframe thead th {\n",
       "        text-align: right;\n",
       "    }\n",
       "</style>\n",
       "<table border=\"1\" class=\"dataframe\">\n",
       "  <thead>\n",
       "    <tr style=\"text-align: right;\">\n",
       "      <th></th>\n",
       "      <th></th>\n",
       "      <th>RestingECG</th>\n",
       "    </tr>\n",
       "    <tr>\n",
       "      <th>HeartDisease</th>\n",
       "      <th>RestingECG</th>\n",
       "      <th></th>\n",
       "    </tr>\n",
       "  </thead>\n",
       "  <tbody>\n",
       "    <tr>\n",
       "      <th rowspan=\"3\" valign=\"top\">0</th>\n",
       "      <th>LVH</th>\n",
       "      <td>82</td>\n",
       "    </tr>\n",
       "    <tr>\n",
       "      <th>Normal</th>\n",
       "      <td>267</td>\n",
       "    </tr>\n",
       "    <tr>\n",
       "      <th>ST</th>\n",
       "      <td>61</td>\n",
       "    </tr>\n",
       "    <tr>\n",
       "      <th rowspan=\"3\" valign=\"top\">1</th>\n",
       "      <th>LVH</th>\n",
       "      <td>106</td>\n",
       "    </tr>\n",
       "    <tr>\n",
       "      <th>Normal</th>\n",
       "      <td>285</td>\n",
       "    </tr>\n",
       "    <tr>\n",
       "      <th>ST</th>\n",
       "      <td>117</td>\n",
       "    </tr>\n",
       "  </tbody>\n",
       "</table>\n",
       "</div>"
      ],
      "text/plain": [
       "                         RestingECG\n",
       "HeartDisease RestingECG            \n",
       "0            LVH                 82\n",
       "             Normal             267\n",
       "             ST                  61\n",
       "1            LVH                106\n",
       "             Normal             285\n",
       "             ST                 117"
      ]
     },
     "execution_count": 212,
     "metadata": {},
     "output_type": "execute_result"
    }
   ],
   "source": [
    "pd.DataFrame(data.groupby(['HeartDisease','RestingECG'])['RestingECG'].count())"
   ]
  },
  {
   "cell_type": "markdown",
   "metadata": {},
   "source": [
    "The most common rest ECG obtained was \"Normal\". Up to 60% of cases.<br>"
   ]
  },
  {
   "cell_type": "markdown",
   "metadata": {},
   "source": [
    "### MaxHR"
   ]
  },
  {
   "cell_type": "code",
   "execution_count": 213,
   "metadata": {},
   "outputs": [
    {
     "data": {
      "text/html": [
       "<div>\n",
       "<style scoped>\n",
       "    .dataframe tbody tr th:only-of-type {\n",
       "        vertical-align: middle;\n",
       "    }\n",
       "\n",
       "    .dataframe tbody tr th {\n",
       "        vertical-align: top;\n",
       "    }\n",
       "\n",
       "    .dataframe thead th {\n",
       "        text-align: right;\n",
       "    }\n",
       "</style>\n",
       "<table border=\"1\" class=\"dataframe\">\n",
       "  <thead>\n",
       "    <tr style=\"text-align: right;\">\n",
       "      <th></th>\n",
       "      <th>MaxHR</th>\n",
       "    </tr>\n",
       "  </thead>\n",
       "  <tbody>\n",
       "    <tr>\n",
       "      <th>count</th>\n",
       "      <td>918.00</td>\n",
       "    </tr>\n",
       "    <tr>\n",
       "      <th>mean</th>\n",
       "      <td>136.81</td>\n",
       "    </tr>\n",
       "    <tr>\n",
       "      <th>std</th>\n",
       "      <td>25.46</td>\n",
       "    </tr>\n",
       "    <tr>\n",
       "      <th>min</th>\n",
       "      <td>60.00</td>\n",
       "    </tr>\n",
       "    <tr>\n",
       "      <th>25%</th>\n",
       "      <td>120.00</td>\n",
       "    </tr>\n",
       "    <tr>\n",
       "      <th>50%</th>\n",
       "      <td>138.00</td>\n",
       "    </tr>\n",
       "    <tr>\n",
       "      <th>75%</th>\n",
       "      <td>156.00</td>\n",
       "    </tr>\n",
       "    <tr>\n",
       "      <th>max</th>\n",
       "      <td>202.00</td>\n",
       "    </tr>\n",
       "  </tbody>\n",
       "</table>\n",
       "</div>"
      ],
      "text/plain": [
       "        MaxHR\n",
       "count  918.00\n",
       "mean   136.81\n",
       "std     25.46\n",
       "min     60.00\n",
       "25%    120.00\n",
       "50%    138.00\n",
       "75%    156.00\n",
       "max    202.00"
      ]
     },
     "execution_count": 213,
     "metadata": {},
     "output_type": "execute_result"
    }
   ],
   "source": [
    "pd.DataFrame(data['MaxHR'].describe().round(2))"
   ]
  },
  {
   "cell_type": "code",
   "execution_count": 214,
   "metadata": {},
   "outputs": [
    {
     "name": "stdout",
     "output_type": "stream",
     "text": [
      "Max heart rate  between people with heart disease\n",
      "count    508.00\n",
      "mean     127.66\n",
      "std       23.39\n",
      "min       60.00\n",
      "25%      112.00\n",
      "50%      126.00\n",
      "75%      144.25\n",
      "max      195.00\n",
      "Name: MaxHR, dtype: float64\n",
      "\n",
      "Max heart rate summary between people without heart disease\n",
      "count    410.00\n",
      "mean     148.15\n",
      "std       23.29\n",
      "min       69.00\n",
      "25%      134.00\n",
      "50%      150.00\n",
      "75%      165.00\n",
      "max      202.00\n",
      "Name: MaxHR, dtype: float64\n"
     ]
    }
   ],
   "source": [
    "print('Max heart rate  between people with heart disease\\n{0}'.format(data[data['HeartDisease'] == 1]['MaxHR'].describe().round(2)))\n",
    "print('\\nMax heart rate summary between people without heart disease\\n{0}'.format(data[data['HeartDisease'] == 0]['MaxHR'].describe().round(2)))"
   ]
  },
  {
   "cell_type": "code",
   "execution_count": 215,
   "metadata": {},
   "outputs": [
    {
     "data": {
      "image/png": "[encoded data removed]",
      "text/plain": [
       "<Figure size 864x504 with 2 Axes>"
      ]
     },
     "metadata": {},
     "output_type": "display_data"
    }
   ],
   "source": [
    "fig, ax = plt.subplots(1,2, figsize = (12,7))\n",
    "ax[0].boxplot(data[data['HeartDisease'] == 1]['MaxHR'])\n",
    "ax[1].boxplot(data[data['HeartDisease'] == 0]['MaxHR'])\n",
    "\n",
    "ax[0].set_ylim(50, 210)\n",
    "ax[1].set_ylim(50, 210)\n",
    "ax[0].set_title('MaxHR between people with heart disease', fontsize = 15, pad = 20)\n",
    "ax[1].set_title('MaxHR between people without heart disease', fontsize = 15, pad = 20)\n",
    "ax[0].set_xticks([])\n",
    "ax[1].set_xticks([])\n",
    "plt.show()"
   ]
  },
  {
   "cell_type": "markdown",
   "metadata": {},
   "source": [
    "Max heart rate between people without heart disease is on average higher than among people with this disease.<br>\n",
    "75% of people without heart disease has max hr lower than 165, while on the opposite site max hr for ones with heart disease is lower than 144."
   ]
  },
  {
   "cell_type": "markdown",
   "metadata": {},
   "source": [
    "### ExerciseAngina"
   ]
  },
  {
   "cell_type": "code",
   "execution_count": 216,
   "metadata": {},
   "outputs": [
    {
     "data": {
      "text/plain": [
       "N    547\n",
       "Y    371\n",
       "Name: ExerciseAngina, dtype: int64"
      ]
     },
     "execution_count": 216,
     "metadata": {},
     "output_type": "execute_result"
    }
   ],
   "source": [
    "data['ExerciseAngina'].value_counts()"
   ]
  },
  {
   "cell_type": "code",
   "execution_count": 217,
   "metadata": {},
   "outputs": [
    {
     "data": {
      "text/html": [
       "<div>\n",
       "<style scoped>\n",
       "    .dataframe tbody tr th:only-of-type {\n",
       "        vertical-align: middle;\n",
       "    }\n",
       "\n",
       "    .dataframe tbody tr th {\n",
       "        vertical-align: top;\n",
       "    }\n",
       "\n",
       "    .dataframe thead th {\n",
       "        text-align: right;\n",
       "    }\n",
       "</style>\n",
       "<table border=\"1\" class=\"dataframe\">\n",
       "  <thead>\n",
       "    <tr style=\"text-align: right;\">\n",
       "      <th></th>\n",
       "      <th></th>\n",
       "      <th>ExerciseAngina</th>\n",
       "    </tr>\n",
       "    <tr>\n",
       "      <th>ExerciseAngina</th>\n",
       "      <th>HeartDisease</th>\n",
       "      <th></th>\n",
       "    </tr>\n",
       "  </thead>\n",
       "  <tbody>\n",
       "    <tr>\n",
       "      <th rowspan=\"2\" valign=\"top\">N</th>\n",
       "      <th>0</th>\n",
       "      <td>355</td>\n",
       "    </tr>\n",
       "    <tr>\n",
       "      <th>1</th>\n",
       "      <td>192</td>\n",
       "    </tr>\n",
       "    <tr>\n",
       "      <th rowspan=\"2\" valign=\"top\">Y</th>\n",
       "      <th>0</th>\n",
       "      <td>55</td>\n",
       "    </tr>\n",
       "    <tr>\n",
       "      <th>1</th>\n",
       "      <td>316</td>\n",
       "    </tr>\n",
       "  </tbody>\n",
       "</table>\n",
       "</div>"
      ],
      "text/plain": [
       "                             ExerciseAngina\n",
       "ExerciseAngina HeartDisease                \n",
       "N              0                        355\n",
       "               1                        192\n",
       "Y              0                         55\n",
       "               1                        316"
      ]
     },
     "execution_count": 217,
     "metadata": {},
     "output_type": "execute_result"
    }
   ],
   "source": [
    "pd.DataFrame(data.groupby(['ExerciseAngina','HeartDisease'])['ExerciseAngina'].count()).round(2)"
   ]
  },
  {
   "cell_type": "markdown",
   "metadata": {},
   "source": [
    "Only 40,5% of people has exercise angina while 85% of them have also heart disease.<br>\n",
    "Between people without exercise angina only 35% of them have heart disease."
   ]
  },
  {
   "cell_type": "markdown",
   "metadata": {},
   "source": [
    "### Oldpeak "
   ]
  },
  {
   "cell_type": "code",
   "execution_count": 218,
   "metadata": {},
   "outputs": [
    {
     "data": {
      "text/plain": [
       "count    918.00\n",
       "mean       0.89\n",
       "std        1.07\n",
       "min       -2.60\n",
       "25%        0.00\n",
       "50%        0.60\n",
       "75%        1.50\n",
       "max        6.20\n",
       "Name: Oldpeak, dtype: float64"
      ]
     },
     "execution_count": 218,
     "metadata": {},
     "output_type": "execute_result"
    }
   ],
   "source": [
    "data['Oldpeak'].describe().round(2)"
   ]
  },
  {
   "cell_type": "code",
   "execution_count": 219,
   "metadata": {},
   "outputs": [
    {
     "name": "stdout",
     "output_type": "stream",
     "text": [
      "Oldpeak summary between people with heart disease\n",
      "count    508.00\n",
      "mean       1.27\n",
      "std        1.15\n",
      "min       -2.60\n",
      "25%        0.00\n",
      "50%        1.20\n",
      "75%        2.00\n",
      "max        6.20\n",
      "Name: Oldpeak, dtype: float64\n",
      "\n",
      "Oldpeak summary between people without heart disease\n",
      "count    410.00\n",
      "mean       0.41\n",
      "std        0.70\n",
      "min       -1.10\n",
      "25%        0.00\n",
      "50%        0.00\n",
      "75%        0.60\n",
      "max        4.20\n",
      "Name: Oldpeak, dtype: float64\n"
     ]
    }
   ],
   "source": [
    "print('Oldpeak summary between people with heart disease\\n{0}'.format(data[data['HeartDisease'] == 1]['Oldpeak'].describe().round(2)))\n",
    "print('\\nOldpeak summary between people without heart disease\\n{0}'.format(data[data['HeartDisease'] == 0]['Oldpeak'].describe().round(2)))"
   ]
  },
  {
   "cell_type": "code",
   "execution_count": 220,
   "metadata": {},
   "outputs": [
    {
     "data": {
      "image/png": "[encoded data removed]",
      "text/plain": [
       "<Figure size 864x504 with 2 Axes>"
      ]
     },
     "metadata": {},
     "output_type": "display_data"
    }
   ],
   "source": [
    "fig, ax = plt.subplots(1,2, figsize = (12,7))\n",
    "ax[0].boxplot(data[data['HeartDisease'] == 1]['Oldpeak'])\n",
    "ax[1].boxplot(data[data['HeartDisease'] == 0]['Oldpeak'])\n",
    "\n",
    "ax[0].set_ylim(-3, 6)\n",
    "ax[1].set_ylim(-3, 6)\n",
    "ax[0].set_title('Oldpeak between people with heart disease', fontsize = 15, pad = 20)\n",
    "ax[1].set_title('Oldpeak between people without heart disease', fontsize = 15, pad = 20)\n",
    "ax[0].set_xticks([])\n",
    "ax[1].set_xticks([])\n",
    "plt.show()"
   ]
  },
  {
   "cell_type": "markdown",
   "metadata": {},
   "source": [
    "Pacients with heart disease have on average higher level of oldpeak, where 50% them have this level above 1,2.<br>\n",
    "Between people without heartdisease 75% of them have oldpeak level lower than 0,6."
   ]
  },
  {
   "cell_type": "markdown",
   "metadata": {},
   "source": [
    "### ST_Slope"
   ]
  },
  {
   "cell_type": "code",
   "execution_count": 221,
   "metadata": {},
   "outputs": [
    {
     "data": {
      "text/plain": [
       "Flat    460\n",
       "Up      395\n",
       "Down     63\n",
       "Name: ST_Slope, dtype: int64"
      ]
     },
     "execution_count": 221,
     "metadata": {},
     "output_type": "execute_result"
    }
   ],
   "source": [
    "data['ST_Slope'].value_counts()"
   ]
  },
  {
   "cell_type": "code",
   "execution_count": 222,
   "metadata": {},
   "outputs": [
    {
     "data": {
      "image/png": "[encoded data removed]",
      "text/plain": [
       "<Figure size 864x432 with 1 Axes>"
      ]
     },
     "metadata": {},
     "output_type": "display_data"
    }
   ],
   "source": [
    "plt.figure(figsize=(12,6))\n",
    "plt.barh(list(data['ST_Slope'].value_counts().index), list(data['ST_Slope'].value_counts()))\n",
    "plt.title('Slope type of the peak exercise ST segment', fontsize = 18, pad = 20)\n",
    "plt.xlabel('Count', fontsize = 14, color = 'grey')\n",
    "plt.ylabel('Type of ST slope', fontsize = 14, color = 'grey')\n",
    "plt.margins(0.05)\n",
    "plt.show()"
   ]
  },
  {
   "cell_type": "code",
   "execution_count": 223,
   "metadata": {},
   "outputs": [
    {
     "data": {
      "text/html": [
       "<div>\n",
       "<style scoped>\n",
       "    .dataframe tbody tr th:only-of-type {\n",
       "        vertical-align: middle;\n",
       "    }\n",
       "\n",
       "    .dataframe tbody tr th {\n",
       "        vertical-align: top;\n",
       "    }\n",
       "\n",
       "    .dataframe thead th {\n",
       "        text-align: right;\n",
       "    }\n",
       "</style>\n",
       "<table border=\"1\" class=\"dataframe\">\n",
       "  <thead>\n",
       "    <tr style=\"text-align: right;\">\n",
       "      <th></th>\n",
       "      <th></th>\n",
       "      <th>ST_Slope</th>\n",
       "    </tr>\n",
       "    <tr>\n",
       "      <th>HeartDisease</th>\n",
       "      <th>ST_Slope</th>\n",
       "      <th></th>\n",
       "    </tr>\n",
       "  </thead>\n",
       "  <tbody>\n",
       "    <tr>\n",
       "      <th rowspan=\"3\" valign=\"top\">0</th>\n",
       "      <th>Down</th>\n",
       "      <td>14</td>\n",
       "    </tr>\n",
       "    <tr>\n",
       "      <th>Flat</th>\n",
       "      <td>79</td>\n",
       "    </tr>\n",
       "    <tr>\n",
       "      <th>Up</th>\n",
       "      <td>317</td>\n",
       "    </tr>\n",
       "    <tr>\n",
       "      <th rowspan=\"3\" valign=\"top\">1</th>\n",
       "      <th>Down</th>\n",
       "      <td>49</td>\n",
       "    </tr>\n",
       "    <tr>\n",
       "      <th>Flat</th>\n",
       "      <td>381</td>\n",
       "    </tr>\n",
       "    <tr>\n",
       "      <th>Up</th>\n",
       "      <td>78</td>\n",
       "    </tr>\n",
       "  </tbody>\n",
       "</table>\n",
       "</div>"
      ],
      "text/plain": [
       "                       ST_Slope\n",
       "HeartDisease ST_Slope          \n",
       "0            Down            14\n",
       "             Flat            79\n",
       "             Up             317\n",
       "1            Down            49\n",
       "             Flat           381\n",
       "             Up              78"
      ]
     },
     "execution_count": 223,
     "metadata": {},
     "output_type": "execute_result"
    }
   ],
   "source": [
    "pd.DataFrame(data.groupby(['HeartDisease','ST_Slope'])['ST_Slope'].count())"
   ]
  },
  {
   "cell_type": "markdown",
   "metadata": {},
   "source": [
    "ST slope has 3 types: down (63), flat (460) and up (395). Most common is to having heart disease between people with flat ST slope (83% of people with that type).<br>\n",
    "On the other hand about 80% of pacients with ST slope up did not have heart disease."
   ]
  },
  {
   "cell_type": "markdown",
   "metadata": {},
   "source": [
    "## Correlation"
   ]
  },
  {
   "cell_type": "code",
   "execution_count": 224,
   "metadata": {},
   "outputs": [
    {
     "data": {
      "image/png": "[encoded data removed]",
      "text/plain": [
       "<Figure size 720x576 with 2 Axes>"
      ]
     },
     "metadata": {},
     "output_type": "display_data"
    }
   ],
   "source": [
    "plt.figure(figsize = (10,8))\n",
    "mask = np.triu(np.ones_like(data.corr()))\n",
    "sns.heatmap(data.corr(), vmax=1, vmin = -1,  square=True, cmap = 'Blues', annot=True, mask = mask)\n",
    "plt.title('Correlationa matrix', fontsize = 16, loc = 'left')\n",
    "plt.yticks(rotation=0)\n",
    "plt.show()"
   ]
  },
  {
   "cell_type": "code",
   "execution_count": 225,
   "metadata": {},
   "outputs": [
    {
     "data": {
      "image/png": "[encoded data removed]",
      "text/plain": [
       "<Figure size 1440x1080 with 2 Axes>"
      ]
     },
     "metadata": {},
     "output_type": "display_data"
    }
   ],
   "source": [
    "plt.figure(figsize = (20,15))\n",
    "mask = np.triu(np.ones_like(pd.get_dummies(data).corr()))\n",
    "sns.heatmap(pd.get_dummies(data).corr(), vmax=1, vmin = -1,  square=True, cmap = 'Blues', annot=True, mask = mask)\n",
    "plt.show()"
   ]
  },
  {
   "cell_type": "markdown",
   "metadata": {},
   "source": [
    "Correlation between variables is moderate to low.<br>\n",
    "Highest correlation occures between HeartDisease and ST_Slope_Flat"
   ]
  },
  {
   "cell_type": "markdown",
   "metadata": {},
   "source": [
    "## Data preprocessing"
   ]
  },
  {
   "cell_type": "markdown",
   "metadata": {},
   "source": [
    "There will be created copy dataset where each continues variable will be categorized based on quanitles and other known classifications.<br>\n",
    "<br>\n",
    "Categories after classification:\n",
    "<ul>\n",
    "<li>Age</li>\n",
    "    <ul>\n",
    "        <li>young age - less than 40 years old</li>\n",
    "        <li>middle age - between 40 and 60 years old</li>\n",
    "        <li>seniors - more than 60 years old</li>\n",
    "    </ul>\n",
    "<li>RestingBP</li>\n",
    "    <ul>\n",
    "        <li>Nornal - less than 120 mmHG</li>\n",
    "        <li>Optimal - between 120 and 140 mmHG</li>\n",
    "        <li>High - more than 140 mmHG</li>\n",
    "    </ul>\n",
    "<li>Cholesterol</li>\n",
    "    <ul>\n",
    "        <li>Good - less than 200 mm/dl</li>\n",
    "        <li>Middle - high  - between 200 and 240 mm/dl</li>\n",
    "        <li>High -  more than 240 mm/dl</li>\n",
    "    </ul>\n",
    "<li>MaxHR</li>\n",
    "    <ul>\n",
    "        <li>low - less than value of 1st quantile</li>\n",
    "        <li>mid - between value 1st and 3rd quantile</li>\n",
    "        <li>high - more then value of 3rd quantile</li>\n",
    "    </ul>\n",
    "<li>Oldpeak</li>\n",
    "    <ul>\n",
    "        <li>low - less than value of 1st quantile</li>\n",
    "        <li>mid - between value 1st and 3rd quantile</li>\n",
    "        <li>high - more then value of 3rd quantile</li>\n",
    "    </ul>\n",
    "</ul>\n"
   ]
  },
  {
   "cell_type": "code",
   "execution_count": 226,
   "metadata": {},
   "outputs": [],
   "source": [
    "data = data[data['RestingBP'] != 0] #removing outlier identified earlier\n",
    "dataCategorical = data.copy()"
   ]
  },
  {
   "cell_type": "code",
   "execution_count": 227,
   "metadata": {},
   "outputs": [
    {
     "data": {
      "text/html": [
       "<div>\n",
       "<style scoped>\n",
       "    .dataframe tbody tr th:only-of-type {\n",
       "        vertical-align: middle;\n",
       "    }\n",
       "\n",
       "    .dataframe tbody tr th {\n",
       "        vertical-align: top;\n",
       "    }\n",
       "\n",
       "    .dataframe thead th {\n",
       "        text-align: right;\n",
       "    }\n",
       "</style>\n",
       "<table border=\"1\" class=\"dataframe\">\n",
       "  <thead>\n",
       "    <tr style=\"text-align: right;\">\n",
       "      <th></th>\n",
       "      <th>Age</th>\n",
       "      <th>Sex</th>\n",
       "      <th>ChestPainType</th>\n",
       "      <th>RestingBP</th>\n",
       "      <th>Cholesterol</th>\n",
       "      <th>FastingBS</th>\n",
       "      <th>RestingECG</th>\n",
       "      <th>MaxHR</th>\n",
       "      <th>ExerciseAngina</th>\n",
       "      <th>Oldpeak</th>\n",
       "      <th>ST_Slope</th>\n",
       "      <th>HeartDisease</th>\n",
       "    </tr>\n",
       "  </thead>\n",
       "  <tbody>\n",
       "    <tr>\n",
       "      <th>0</th>\n",
       "      <td>40</td>\n",
       "      <td>M</td>\n",
       "      <td>ATA</td>\n",
       "      <td>140</td>\n",
       "      <td>289</td>\n",
       "      <td>0</td>\n",
       "      <td>Normal</td>\n",
       "      <td>172</td>\n",
       "      <td>N</td>\n",
       "      <td>0.0</td>\n",
       "      <td>Up</td>\n",
       "      <td>0</td>\n",
       "    </tr>\n",
       "    <tr>\n",
       "      <th>1</th>\n",
       "      <td>49</td>\n",
       "      <td>F</td>\n",
       "      <td>NAP</td>\n",
       "      <td>160</td>\n",
       "      <td>180</td>\n",
       "      <td>0</td>\n",
       "      <td>Normal</td>\n",
       "      <td>156</td>\n",
       "      <td>N</td>\n",
       "      <td>1.0</td>\n",
       "      <td>Flat</td>\n",
       "      <td>1</td>\n",
       "    </tr>\n",
       "    <tr>\n",
       "      <th>2</th>\n",
       "      <td>37</td>\n",
       "      <td>M</td>\n",
       "      <td>ATA</td>\n",
       "      <td>130</td>\n",
       "      <td>283</td>\n",
       "      <td>0</td>\n",
       "      <td>ST</td>\n",
       "      <td>98</td>\n",
       "      <td>N</td>\n",
       "      <td>0.0</td>\n",
       "      <td>Up</td>\n",
       "      <td>0</td>\n",
       "    </tr>\n",
       "    <tr>\n",
       "      <th>3</th>\n",
       "      <td>48</td>\n",
       "      <td>F</td>\n",
       "      <td>ASY</td>\n",
       "      <td>138</td>\n",
       "      <td>214</td>\n",
       "      <td>0</td>\n",
       "      <td>Normal</td>\n",
       "      <td>108</td>\n",
       "      <td>Y</td>\n",
       "      <td>1.5</td>\n",
       "      <td>Flat</td>\n",
       "      <td>1</td>\n",
       "    </tr>\n",
       "    <tr>\n",
       "      <th>4</th>\n",
       "      <td>54</td>\n",
       "      <td>M</td>\n",
       "      <td>NAP</td>\n",
       "      <td>150</td>\n",
       "      <td>195</td>\n",
       "      <td>0</td>\n",
       "      <td>Normal</td>\n",
       "      <td>122</td>\n",
       "      <td>N</td>\n",
       "      <td>0.0</td>\n",
       "      <td>Up</td>\n",
       "      <td>0</td>\n",
       "    </tr>\n",
       "    <tr>\n",
       "      <th>...</th>\n",
       "      <td>...</td>\n",
       "      <td>...</td>\n",
       "      <td>...</td>\n",
       "      <td>...</td>\n",
       "      <td>...</td>\n",
       "      <td>...</td>\n",
       "      <td>...</td>\n",
       "      <td>...</td>\n",
       "      <td>...</td>\n",
       "      <td>...</td>\n",
       "      <td>...</td>\n",
       "      <td>...</td>\n",
       "    </tr>\n",
       "    <tr>\n",
       "      <th>913</th>\n",
       "      <td>45</td>\n",
       "      <td>M</td>\n",
       "      <td>TA</td>\n",
       "      <td>110</td>\n",
       "      <td>264</td>\n",
       "      <td>0</td>\n",
       "      <td>Normal</td>\n",
       "      <td>132</td>\n",
       "      <td>N</td>\n",
       "      <td>1.2</td>\n",
       "      <td>Flat</td>\n",
       "      <td>1</td>\n",
       "    </tr>\n",
       "    <tr>\n",
       "      <th>914</th>\n",
       "      <td>68</td>\n",
       "      <td>M</td>\n",
       "      <td>ASY</td>\n",
       "      <td>144</td>\n",
       "      <td>193</td>\n",
       "      <td>1</td>\n",
       "      <td>Normal</td>\n",
       "      <td>141</td>\n",
       "      <td>N</td>\n",
       "      <td>3.4</td>\n",
       "      <td>Flat</td>\n",
       "      <td>1</td>\n",
       "    </tr>\n",
       "    <tr>\n",
       "      <th>915</th>\n",
       "      <td>57</td>\n",
       "      <td>M</td>\n",
       "      <td>ASY</td>\n",
       "      <td>130</td>\n",
       "      <td>131</td>\n",
       "      <td>0</td>\n",
       "      <td>Normal</td>\n",
       "      <td>115</td>\n",
       "      <td>Y</td>\n",
       "      <td>1.2</td>\n",
       "      <td>Flat</td>\n",
       "      <td>1</td>\n",
       "    </tr>\n",
       "    <tr>\n",
       "      <th>916</th>\n",
       "      <td>57</td>\n",
       "      <td>F</td>\n",
       "      <td>ATA</td>\n",
       "      <td>130</td>\n",
       "      <td>236</td>\n",
       "      <td>0</td>\n",
       "      <td>LVH</td>\n",
       "      <td>174</td>\n",
       "      <td>N</td>\n",
       "      <td>0.0</td>\n",
       "      <td>Flat</td>\n",
       "      <td>1</td>\n",
       "    </tr>\n",
       "    <tr>\n",
       "      <th>917</th>\n",
       "      <td>38</td>\n",
       "      <td>M</td>\n",
       "      <td>NAP</td>\n",
       "      <td>138</td>\n",
       "      <td>175</td>\n",
       "      <td>0</td>\n",
       "      <td>Normal</td>\n",
       "      <td>173</td>\n",
       "      <td>N</td>\n",
       "      <td>0.0</td>\n",
       "      <td>Up</td>\n",
       "      <td>0</td>\n",
       "    </tr>\n",
       "  </tbody>\n",
       "</table>\n",
       "<p>917 rows × 12 columns</p>\n",
       "</div>"
      ],
      "text/plain": [
       "     Age Sex ChestPainType  RestingBP  Cholesterol FastingBS RestingECG  \\\n",
       "0     40   M           ATA        140          289         0     Normal   \n",
       "1     49   F           NAP        160          180         0     Normal   \n",
       "2     37   M           ATA        130          283         0         ST   \n",
       "3     48   F           ASY        138          214         0     Normal   \n",
       "4     54   M           NAP        150          195         0     Normal   \n",
       "..   ...  ..           ...        ...          ...       ...        ...   \n",
       "913   45   M            TA        110          264         0     Normal   \n",
       "914   68   M           ASY        144          193         1     Normal   \n",
       "915   57   M           ASY        130          131         0     Normal   \n",
       "916   57   F           ATA        130          236         0        LVH   \n",
       "917   38   M           NAP        138          175         0     Normal   \n",
       "\n",
       "     MaxHR ExerciseAngina  Oldpeak ST_Slope  HeartDisease  \n",
       "0      172              N      0.0       Up             0  \n",
       "1      156              N      1.0     Flat             1  \n",
       "2       98              N      0.0       Up             0  \n",
       "3      108              Y      1.5     Flat             1  \n",
       "4      122              N      0.0       Up             0  \n",
       "..     ...            ...      ...      ...           ...  \n",
       "913    132              N      1.2     Flat             1  \n",
       "914    141              N      3.4     Flat             1  \n",
       "915    115              Y      1.2     Flat             1  \n",
       "916    174              N      0.0     Flat             1  \n",
       "917    173              N      0.0       Up             0  \n",
       "\n",
       "[917 rows x 12 columns]"
      ]
     },
     "execution_count": 227,
     "metadata": {},
     "output_type": "execute_result"
    }
   ],
   "source": [
    "dataCategorical"
   ]
  },
  {
   "cell_type": "markdown",
   "metadata": {},
   "source": [
    "### Age"
   ]
  },
  {
   "cell_type": "code",
   "execution_count": 228,
   "metadata": {},
   "outputs": [
    {
     "data": {
      "text/plain": [
       "middle age    603\n",
       "seniors       221\n",
       "young age      93\n",
       "Name: Age, dtype: int64"
      ]
     },
     "execution_count": 228,
     "metadata": {},
     "output_type": "execute_result"
    }
   ],
   "source": [
    "dataCategorical['Age'] = pd.cut(data['Age'], bins = [data['Age'].min() - 1, 40, 60, data['Age'].max() + 1], labels = ['young age', 'middle age', 'seniors'])\n",
    "dataCategorical['Age'].value_counts()"
   ]
  },
  {
   "cell_type": "markdown",
   "metadata": {},
   "source": [
    "### RestingBP"
   ]
  },
  {
   "cell_type": "code",
   "execution_count": 229,
   "metadata": {},
   "outputs": [
    {
     "data": {
      "text/plain": [
       "Normal     405\n",
       "Optimal    292\n",
       "High       220\n",
       "Name: RestingBP, dtype: int64"
      ]
     },
     "execution_count": 229,
     "metadata": {},
     "output_type": "execute_result"
    }
   ],
   "source": [
    "dataCategorical['RestingBP'] = pd.cut(data['RestingBP'], bins = [data['RestingBP'].min()-1, 120, 140, data['RestingBP'].max() + 1], labels = ['Optimal', 'Normal', 'High'])\n",
    "dataCategorical['RestingBP'].value_counts()"
   ]
  },
  {
   "cell_type": "markdown",
   "metadata": {},
   "source": [
    "### Cholesterol"
   ]
  },
  {
   "cell_type": "code",
   "execution_count": 230,
   "metadata": {},
   "outputs": [
    {
     "data": {
      "text/plain": [
       "High             355\n",
       "Good             321\n",
       "Middle - high    241\n",
       "Name: Cholesterol, dtype: int64"
      ]
     },
     "execution_count": 230,
     "metadata": {},
     "output_type": "execute_result"
    }
   ],
   "source": [
    "dataCategorical['Cholesterol'] = pd.cut(data['Cholesterol'], bins = [data['Cholesterol'].min() - 1, 200, 240, data['Cholesterol'].max() + 1], labels = ['Good', 'Middle - high', 'High'])\n",
    "dataCategorical['Cholesterol'].value_counts()"
   ]
  },
  {
   "cell_type": "markdown",
   "metadata": {},
   "source": [
    "### MaxHR"
   ]
  },
  {
   "cell_type": "code",
   "execution_count": 231,
   "metadata": {},
   "outputs": [
    {
     "data": {
      "text/plain": [
       "mid     435\n",
       "low     261\n",
       "high    221\n",
       "Name: MaxHR, dtype: int64"
      ]
     },
     "execution_count": 231,
     "metadata": {},
     "output_type": "execute_result"
    }
   ],
   "source": [
    "dataCategorical['MaxHR'] = pd.cut(data['MaxHR'], bins = [data['MaxHR'].min() - 1, data['MaxHR'].quantile(0.25), data['MaxHR'].quantile(0.75), data['MaxHR'].max() + 1], labels = ['low', 'mid', 'high'])\n",
    "dataCategorical['MaxHR'].value_counts()"
   ]
  },
  {
   "cell_type": "markdown",
   "metadata": {},
   "source": [
    "### Oldpeak"
   ]
  },
  {
   "cell_type": "code",
   "execution_count": 232,
   "metadata": {},
   "outputs": [
    {
     "data": {
      "text/plain": [
       "low     381\n",
       "mid     314\n",
       "high    222\n",
       "Name: Oldpeak, dtype: int64"
      ]
     },
     "execution_count": 232,
     "metadata": {},
     "output_type": "execute_result"
    }
   ],
   "source": [
    "dataCategorical['Oldpeak'] = pd.cut(data['Oldpeak'], bins = [data['Oldpeak'].min() - 1, data['Oldpeak'].quantile(0.25), data['Oldpeak'].quantile(0.75), data['Oldpeak'].max() + 1], labels = ['low', 'mid', 'high'])\n",
    "dataCategorical['Oldpeak'].value_counts()"
   ]
  },
  {
   "cell_type": "markdown",
   "metadata": {},
   "source": [
    "## Split the data"
   ]
  },
  {
   "cell_type": "code",
   "execution_count": 233,
   "metadata": {},
   "outputs": [],
   "source": [
    "x_train, x_test, y_train, y_test = train_test_split(data.drop(['HeartDisease'], axis = 1), data['HeartDisease'], test_size=0.2, random_state=42)"
   ]
  },
  {
   "cell_type": "code",
   "execution_count": 234,
   "metadata": {},
   "outputs": [],
   "source": [
    "train_data = pd.merge(x_train.reset_index(), y_train.reset_index(), how = 'left', on = 'index').drop('index', axis = 1)\n",
    "test_data = pd.merge(x_test.reset_index(), y_test.reset_index(), how = 'left', on = 'index').drop('index', axis = 1)"
   ]
  },
  {
   "cell_type": "code",
   "execution_count": 235,
   "metadata": {},
   "outputs": [],
   "source": [
    "x_cat_train, x_cat_test, y_cat_train, y_cat_test = train_test_split(dataCategorical.drop(['HeartDisease'], axis = 1), dataCategorical['HeartDisease'], test_size=0.2, random_state=42)"
   ]
  },
  {
   "cell_type": "code",
   "execution_count": 236,
   "metadata": {},
   "outputs": [],
   "source": [
    "train_cat_data = pd.merge(x_cat_train.reset_index(), y_cat_train.reset_index(), how = 'left', on = 'index').drop('index', axis = 1)\n",
    "test_cat_data = pd.merge(x_cat_test.reset_index(), y_cat_test.reset_index(), how = 'left', on = 'index').drop('index', axis = 1)"
   ]
  },
  {
   "cell_type": "markdown",
   "metadata": {},
   "source": [
    "## Models\n",
    "Due to Heart Disease being dychotomic models will be created using logit and probit function, where logit explaines chance of occurance while probit determines the likelihood that an item or event will fall into one of a range of categories by estimating the probability that observation with specific features will belong to a particular category.<br>\n",
    "<br>\n",
    "Each model will be used for each dataset"
   ]
  },
  {
   "cell_type": "markdown",
   "metadata": {},
   "source": [
    "### Logit model with non categorized data"
   ]
  },
  {
   "cell_type": "code",
   "execution_count": 237,
   "metadata": {},
   "outputs": [
    {
     "name": "stdout",
     "output_type": "stream",
     "text": [
      "                 Generalized Linear Model Regression Results                  \n",
      "==============================================================================\n",
      "Dep. Variable:           HeartDisease   No. Observations:                  733\n",
      "Model:                            GLM   Df Residuals:                      717\n",
      "Model Family:                Binomial   Df Model:                           15\n",
      "Link Function:                  Logit   Scale:                          1.0000\n",
      "Method:                          IRLS   Log-Likelihood:                -234.01\n",
      "Date:                Sun, 24 Jul 2022   Deviance:                       468.02\n",
      "Time:                        14:38:33   Pearson chi2:                     668.\n",
      "No. Iterations:                     6   Pseudo R-squ. (CS):             0.5237\n",
      "Covariance Type:            nonrobust                                         \n",
      "========================================================================================\n",
      "                           coef    std err          z      P>|z|      [0.025      0.975]\n",
      "----------------------------------------------------------------------------------------\n",
      "Intercept               -0.6574      1.635     -0.402      0.688      -3.863       2.548\n",
      "Sex[T.M]                 1.4356      0.318      4.514      0.000       0.812       2.059\n",
      "ChestPainType[T.ATA]    -1.7217      0.382     -4.511      0.000      -2.470      -0.974\n",
      "ChestPainType[T.NAP]    -1.6808      0.299     -5.613      0.000      -2.268      -1.094\n",
      "ChestPainType[T.TA]     -1.5448      0.504     -3.066      0.002      -2.532      -0.557\n",
      "FastingBS[T.1]           1.0054      0.309      3.249      0.001       0.399       1.612\n",
      "RestingECG[T.Normal]    -0.1889      0.303     -0.623      0.533      -0.783       0.405\n",
      "RestingECG[T.ST]        -0.1994      0.394     -0.507      0.612      -0.971       0.572\n",
      "ExerciseAngina[T.Y]      0.9495      0.274      3.464      0.001       0.412       1.487\n",
      "ST_Slope[T.Flat]         1.2184      0.485      2.511      0.012       0.267       2.170\n",
      "ST_Slope[T.Up]          -1.2671      0.512     -2.473      0.013      -2.271      -0.263\n",
      "Age                      0.0132      0.015      0.872      0.383      -0.016       0.043\n",
      "RestingBP                0.0018      0.007      0.249      0.803      -0.012       0.016\n",
      "Cholesterol             -0.0045      0.001     -3.615      0.000      -0.007      -0.002\n",
      "MaxHR                   -0.0030      0.006     -0.533      0.594      -0.014       0.008\n",
      "Oldpeak                  0.4119      0.133      3.105      0.002       0.152       0.672\n",
      "========================================================================================\n"
     ]
    }
   ],
   "source": [
    "formula = 'HeartDisease ~ Age + Sex + ChestPainType + RestingBP + Cholesterol + FastingBS + RestingECG + MaxHR + ExerciseAngina + Oldpeak + ST_Slope'\n",
    "logit_1 = smf.glm(formula = formula, data = train_data, family = sm.families.Binomial())\n",
    "logit_1_results = logit_1.fit()\n",
    "print(logit_1_results.summary())"
   ]
  },
  {
   "cell_type": "code",
   "execution_count": 238,
   "metadata": {},
   "outputs": [
    {
     "name": "stdout",
     "output_type": "stream",
     "text": [
      "                 Generalized Linear Model Regression Results                  \n",
      "==============================================================================\n",
      "Dep. Variable:           HeartDisease   No. Observations:                  733\n",
      "Model:                            GLM   Df Residuals:                      722\n",
      "Model Family:                Binomial   Df Model:                           10\n",
      "Link Function:                  Logit   Scale:                          1.0000\n",
      "Method:                          IRLS   Log-Likelihood:                -235.24\n",
      "Date:                Sun, 24 Jul 2022   Deviance:                       470.49\n",
      "Time:                        14:38:34   Pearson chi2:                     705.\n",
      "No. Iterations:                     6   Pseudo R-squ. (CS):             0.5221\n",
      "Covariance Type:            nonrobust                                         \n",
      "========================================================================================\n",
      "                           coef    std err          z      P>|z|      [0.025      0.975]\n",
      "----------------------------------------------------------------------------------------\n",
      "Intercept               -0.2514      0.643     -0.391      0.696      -1.512       1.009\n",
      "Sex[T.M]                 1.4231      0.318      4.477      0.000       0.800       2.046\n",
      "ChestPainType[T.ATA]    -1.7687      0.378     -4.676      0.000      -2.510      -1.027\n",
      "ChestPainType[T.NAP]    -1.6955      0.295     -5.753      0.000      -2.273      -1.118\n",
      "ChestPainType[T.TA]     -1.5225      0.490     -3.104      0.002      -2.484      -0.561\n",
      "FastingBS[T.1]           1.0622      0.306      3.466      0.001       0.462       1.663\n",
      "ExerciseAngina[T.Y]      0.9980      0.264      3.781      0.000       0.481       1.515\n",
      "ST_Slope[T.Flat]         1.1941      0.481      2.481      0.013       0.251       2.137\n",
      "ST_Slope[T.Up]          -1.3463      0.502     -2.680      0.007      -2.331      -0.362\n",
      "Cholesterol             -0.0045      0.001     -3.844      0.000      -0.007      -0.002\n",
      "Oldpeak                  0.4383      0.129      3.397      0.001       0.185       0.691\n",
      "========================================================================================\n"
     ]
    }
   ],
   "source": [
    "formula = \"HeartDisease ~ Sex + ChestPainType + Cholesterol + FastingBS + ExerciseAngina + Oldpeak + ST_Slope\"\n",
    "logit_1 = smf.glm(formula = formula, data = train_data, family = sm.families.Binomial())\n",
    "logit_1_results = logit_1.fit()\n",
    "print(logit_1_results.summary())"
   ]
  },
  {
   "cell_type": "markdown",
   "metadata": {},
   "source": [
    "### Probit model with non categorized data"
   ]
  },
  {
   "cell_type": "code",
   "execution_count": 239,
   "metadata": {},
   "outputs": [
    {
     "name": "stdout",
     "output_type": "stream",
     "text": [
      "                 Generalized Linear Model Regression Results                  \n",
      "==============================================================================\n",
      "Dep. Variable:           HeartDisease   No. Observations:                  733\n",
      "Model:                            GLM   Df Residuals:                      717\n",
      "Model Family:                Binomial   Df Model:                           15\n",
      "Link Function:                 probit   Scale:                          1.0000\n",
      "Method:                          IRLS   Log-Likelihood:                -233.63\n",
      "Date:                Sun, 24 Jul 2022   Deviance:                       467.26\n",
      "Time:                        14:38:34   Pearson chi2:                     662.\n",
      "No. Iterations:                     7   Pseudo R-squ. (CS):             0.5242\n",
      "Covariance Type:            nonrobust                                         \n",
      "========================================================================================\n",
      "                           coef    std err          z      P>|z|      [0.025      0.975]\n",
      "----------------------------------------------------------------------------------------\n",
      "Intercept               -0.3206      0.902     -0.356      0.722      -2.088       1.447\n",
      "Sex[T.M]                 0.7740      0.174      4.450      0.000       0.433       1.115\n",
      "ChestPainType[T.ATA]    -0.9918      0.207     -4.794      0.000      -1.397      -0.586\n",
      "ChestPainType[T.NAP]    -0.9622      0.163     -5.898      0.000      -1.282      -0.642\n",
      "ChestPainType[T.TA]     -0.8566      0.282     -3.033      0.002      -1.410      -0.303\n",
      "FastingBS[T.1]           0.5824      0.169      3.455      0.001       0.252       0.913\n",
      "RestingECG[T.Normal]    -0.1329      0.169     -0.786      0.432      -0.464       0.198\n",
      "RestingECG[T.ST]        -0.1701      0.217     -0.785      0.432      -0.595       0.254\n",
      "ExerciseAngina[T.Y]      0.5243      0.153      3.430      0.001       0.225       0.824\n",
      "ST_Slope[T.Flat]         0.6384      0.266      2.396      0.017       0.116       1.161\n",
      "ST_Slope[T.Up]          -0.7738      0.284     -2.722      0.006      -1.331      -0.217\n",
      "Age                      0.0080      0.008      0.958      0.338      -0.008       0.024\n",
      "RestingBP                0.0018      0.004      0.471      0.637      -0.006       0.010\n",
      "Cholesterol             -0.0025      0.001     -3.706      0.000      -0.004      -0.001\n",
      "MaxHR                   -0.0022      0.003     -0.701      0.483      -0.008       0.004\n",
      "Oldpeak                  0.2144      0.073      2.940      0.003       0.071       0.357\n",
      "========================================================================================\n"
     ]
    }
   ],
   "source": [
    "formula = 'HeartDisease ~ Age + Sex + ChestPainType + RestingBP + Cholesterol + FastingBS + RestingECG + MaxHR + ExerciseAngina + Oldpeak + ST_Slope'\n",
    "probit_1 = smf.glm(formula = formula, data = train_data, family = sm.families.Binomial(link = sm.genmod.families.links.probit()))\n",
    "probit_1_results =probit_1.fit()\n",
    "print(probit_1_results.summary())"
   ]
  },
  {
   "cell_type": "code",
   "execution_count": 240,
   "metadata": {},
   "outputs": [
    {
     "name": "stdout",
     "output_type": "stream",
     "text": [
      "                 Generalized Linear Model Regression Results                  \n",
      "==============================================================================\n",
      "Dep. Variable:           HeartDisease   No. Observations:                  733\n",
      "Model:                            GLM   Df Residuals:                      722\n",
      "Model Family:                Binomial   Df Model:                           10\n",
      "Link Function:                 probit   Scale:                          1.0000\n",
      "Method:                          IRLS   Log-Likelihood:                -235.47\n",
      "Date:                Sun, 24 Jul 2022   Deviance:                       470.94\n",
      "Time:                        14:38:34   Pearson chi2:                     713.\n",
      "No. Iterations:                     7   Pseudo R-squ. (CS):             0.5218\n",
      "Covariance Type:            nonrobust                                         \n",
      "========================================================================================\n",
      "                           coef    std err          z      P>|z|      [0.025      0.975]\n",
      "----------------------------------------------------------------------------------------\n",
      "Intercept               -0.0339      0.353     -0.096      0.924      -0.726       0.659\n",
      "Sex[T.M]                 0.7535      0.173      4.367      0.000       0.415       1.092\n",
      "ChestPainType[T.ATA]    -1.0218      0.204     -5.008      0.000      -1.422      -0.622\n",
      "ChestPainType[T.NAP]    -0.9685      0.160     -6.041      0.000      -1.283      -0.654\n",
      "ChestPainType[T.TA]     -0.8236      0.276     -2.981      0.003      -1.365      -0.282\n",
      "FastingBS[T.1]           0.6243      0.167      3.745      0.000       0.298       0.951\n",
      "ExerciseAngina[T.Y]      0.5547      0.147      3.771      0.000       0.266       0.843\n",
      "ST_Slope[T.Flat]         0.6148      0.264      2.324      0.020       0.096       1.133\n",
      "ST_Slope[T.Up]          -0.8283      0.280     -2.963      0.003      -1.376      -0.280\n",
      "Cholesterol             -0.0025      0.001     -3.878      0.000      -0.004      -0.001\n",
      "Oldpeak                  0.2277      0.071      3.211      0.001       0.089       0.367\n",
      "========================================================================================\n"
     ]
    }
   ],
   "source": [
    "formula = 'HeartDisease ~ Sex + ChestPainType + Cholesterol + FastingBS + ExerciseAngina + Oldpeak + ST_Slope'\n",
    "probit_1 = smf.glm(formula = formula, data = train_data, family = sm.families.Binomial(link = sm.genmod.families.links.probit()))\n",
    "probit_1_results =probit_1.fit()\n",
    "print(probit_1_results.summary())"
   ]
  },
  {
   "cell_type": "markdown",
   "metadata": {},
   "source": [
    "All variables are statisticly significance beside age, max heart rate, resting blood pressure and resting electrocardiogram results. These variables will be dropped from logit 1 model and probit 1 model."
   ]
  },
  {
   "cell_type": "markdown",
   "metadata": {},
   "source": [
    "### Logit model with categorized data"
   ]
  },
  {
   "cell_type": "code",
   "execution_count": 241,
   "metadata": {},
   "outputs": [
    {
     "name": "stdout",
     "output_type": "stream",
     "text": [
      "                 Generalized Linear Model Regression Results                  \n",
      "==============================================================================\n",
      "Dep. Variable:           HeartDisease   No. Observations:                  733\n",
      "Model:                            GLM   Df Residuals:                      712\n",
      "Model Family:                Binomial   Df Model:                           20\n",
      "Link Function:                  Logit   Scale:                          1.0000\n",
      "Method:                          IRLS   Log-Likelihood:                -233.37\n",
      "Date:                Sun, 24 Jul 2022   Deviance:                       466.74\n",
      "Time:                        14:38:34   Pearson chi2:                     722.\n",
      "No. Iterations:                     6   Pseudo R-squ. (CS):             0.5245\n",
      "Covariance Type:            nonrobust                                         \n",
      "================================================================================================\n",
      "                                   coef    std err          z      P>|z|      [0.025      0.975]\n",
      "------------------------------------------------------------------------------------------------\n",
      "Intercept                        0.3196      0.805      0.397      0.691      -1.259       1.898\n",
      "Age[T.middle age]               -0.3271      0.427     -0.767      0.443      -1.163       0.509\n",
      "Age[T.seniors]                  -0.0123      0.501     -0.024      0.980      -0.994       0.970\n",
      "Sex[T.M]                         1.6003      0.322      4.975      0.000       0.970       2.231\n",
      "ChestPainType[T.ATA]            -1.8535      0.385     -4.818      0.000      -2.608      -1.099\n",
      "ChestPainType[T.NAP]            -1.7335      0.300     -5.780      0.000      -2.321      -1.146\n",
      "ChestPainType[T.TA]             -1.6688      0.520     -3.211      0.001      -2.687      -0.650\n",
      "RestingBP[T.Normal]             -0.0194      0.277     -0.070      0.944      -0.562       0.523\n",
      "RestingBP[T.High]                0.3292      0.335      0.982      0.326      -0.328       0.986\n",
      "Cholesterol[T.Middle - high]    -1.0280      0.318     -3.228      0.001      -1.652      -0.404\n",
      "Cholesterol[T.High]             -0.6293      0.313     -2.009      0.045      -1.243      -0.015\n",
      "FastingBS[T.1]                   1.2240      0.315      3.881      0.000       0.606       1.842\n",
      "RestingECG[T.Normal]            -0.1738      0.308     -0.564      0.573      -0.778       0.430\n",
      "RestingECG[T.ST]                -0.0374      0.397     -0.094      0.925      -0.815       0.741\n",
      "MaxHR[T.mid]                    -0.3060      0.311     -0.983      0.326      -0.916       0.304\n",
      "MaxHR[T.high]                    0.0488      0.395      0.124      0.902      -0.725       0.823\n",
      "ExerciseAngina[T.Y]              1.1961      0.280      4.266      0.000       0.647       1.746\n",
      "Oldpeak[T.mid]                  -0.4556      0.300     -1.519      0.129      -1.044       0.132\n",
      "Oldpeak[T.high]                  0.5817      0.366      1.590      0.112      -0.135       1.299\n",
      "ST_Slope[T.Flat]                 0.9429      0.480      1.964      0.050       0.002       1.884\n",
      "ST_Slope[T.Up]                  -1.8162      0.507     -3.584      0.000      -2.809      -0.823\n",
      "================================================================================================\n"
     ]
    }
   ],
   "source": [
    "formula = 'HeartDisease ~ Age + Sex + ChestPainType + RestingBP + Cholesterol + FastingBS + RestingECG + MaxHR + ExerciseAngina + Oldpeak + ST_Slope'\n",
    "logit_2 = smf.glm(formula = formula, data = train_cat_data, family = sm.families.Binomial())\n",
    "logit_2_results = logit_2.fit()\n",
    "print(logit_2_results.summary())"
   ]
  },
  {
   "cell_type": "code",
   "execution_count": 242,
   "metadata": {},
   "outputs": [
    {
     "name": "stdout",
     "output_type": "stream",
     "text": [
      "                 Generalized Linear Model Regression Results                  \n",
      "==============================================================================\n",
      "Dep. Variable:           HeartDisease   No. Observations:                  733\n",
      "Model:                            GLM   Df Residuals:                      720\n",
      "Model Family:                Binomial   Df Model:                           12\n",
      "Link Function:                  Logit   Scale:                          1.0000\n",
      "Method:                          IRLS   Log-Likelihood:                -236.21\n",
      "Date:                Sun, 24 Jul 2022   Deviance:                       472.41\n",
      "Time:                        14:38:34   Pearson chi2:                     692.\n",
      "No. Iterations:                     6   Pseudo R-squ. (CS):             0.5209\n",
      "Covariance Type:            nonrobust                                         \n",
      "==================================================================================================================\n",
      "                                                     coef    std err          z      P>|z|      [0.025      0.975]\n",
      "------------------------------------------------------------------------------------------------------------------\n",
      "Intercept                                          0.5962      0.573      1.041      0.298      -0.526       1.719\n",
      "Sex[T.M]                                           1.5447      0.317      4.871      0.000       0.923       2.166\n",
      "ChestPainType[T.ATA]                              -1.9100      0.378     -5.049      0.000      -2.652      -1.169\n",
      "ChestPainType[T.NAP]                              -1.7021      0.296     -5.755      0.000      -2.282      -1.122\n",
      "ChestPainType[T.TA]                               -1.5383      0.497     -3.093      0.002      -2.513      -0.563\n",
      "Cholesterol[T.Middle - high]                      -1.0312      0.306     -3.372      0.001      -1.631      -0.432\n",
      "Cholesterol[T.High]                               -0.5717      0.294     -1.947      0.052      -1.147       0.004\n",
      "FastingBS[T.1]                                     1.2136      0.310      3.917      0.000       0.606       1.821\n",
      "ExerciseAngina[T.Y]                                1.1881      0.265      4.478      0.000       0.668       1.708\n",
      "C(Oldpeak, Treatment(reference=\"high\"))[T.low]    -0.5749      0.352     -1.634      0.102      -1.264       0.115\n",
      "C(Oldpeak, Treatment(reference=\"high\"))[T.mid]    -1.0561      0.324     -3.257      0.001      -1.692      -0.421\n",
      "ST_Slope[T.Flat]                                   0.8517      0.472      1.803      0.071      -0.074       1.778\n",
      "ST_Slope[T.Up]                                    -1.8767      0.492     -3.817      0.000      -2.840      -0.913\n",
      "==================================================================================================================\n"
     ]
    }
   ],
   "source": [
    "formula = 'HeartDisease ~ Sex + ChestPainType + Cholesterol + FastingBS + ExerciseAngina + C(Oldpeak, Treatment(reference = \"high\")) + ST_Slope'\n",
    "logit_2 = smf.glm(formula = formula, data = train_cat_data, family = sm.families.Binomial())\n",
    "logit_2_results = logit_2.fit()\n",
    "print(logit_2_results.summary())"
   ]
  },
  {
   "cell_type": "markdown",
   "metadata": {},
   "source": [
    "### Probit model with categorized data"
   ]
  },
  {
   "cell_type": "code",
   "execution_count": 243,
   "metadata": {},
   "outputs": [
    {
     "name": "stdout",
     "output_type": "stream",
     "text": [
      "                 Generalized Linear Model Regression Results                  \n",
      "==============================================================================\n",
      "Dep. Variable:           HeartDisease   No. Observations:                  733\n",
      "Model:                            GLM   Df Residuals:                      712\n",
      "Model Family:                Binomial   Df Model:                           20\n",
      "Link Function:                 probit   Scale:                          1.0000\n",
      "Method:                          IRLS   Log-Likelihood:                -233.77\n",
      "Date:                Sun, 24 Jul 2022   Deviance:                       467.53\n",
      "Time:                        14:38:35   Pearson chi2:                     740.\n",
      "No. Iterations:                     7   Pseudo R-squ. (CS):             0.5240\n",
      "Covariance Type:            nonrobust                                         \n",
      "================================================================================================\n",
      "                                   coef    std err          z      P>|z|      [0.025      0.975]\n",
      "------------------------------------------------------------------------------------------------\n",
      "Intercept                        0.2359      0.444      0.532      0.595      -0.634       1.105\n",
      "Age[T.middle age]               -0.1452      0.235     -0.617      0.537      -0.607       0.316\n",
      "Age[T.seniors]                  -0.0015      0.276     -0.006      0.996      -0.543       0.540\n",
      "Sex[T.M]                         0.8674      0.174      4.976      0.000       0.526       1.209\n",
      "ChestPainType[T.ATA]            -1.0683      0.207     -5.172      0.000      -1.473      -0.663\n",
      "ChestPainType[T.NAP]            -0.9856      0.163     -6.035      0.000      -1.306      -0.666\n",
      "ChestPainType[T.TA]             -0.8827      0.288     -3.062      0.002      -1.448      -0.318\n",
      "RestingBP[T.Normal]             -0.0044      0.152     -0.029      0.977      -0.303       0.294\n",
      "RestingBP[T.High]                0.1776      0.184      0.965      0.334      -0.183       0.538\n",
      "Cholesterol[T.Middle - high]    -0.5732      0.174     -3.293      0.001      -0.914      -0.232\n",
      "Cholesterol[T.High]             -0.3717      0.170     -2.186      0.029      -0.705      -0.038\n",
      "FastingBS[T.1]                   0.6765      0.170      3.978      0.000       0.343       1.010\n",
      "RestingECG[T.Normal]            -0.1352      0.171     -0.792      0.429      -0.470       0.199\n",
      "RestingECG[T.ST]                -0.0710      0.218     -0.325      0.745      -0.499       0.357\n",
      "MaxHR[T.mid]                    -0.1463      0.169     -0.868      0.385      -0.477       0.184\n",
      "MaxHR[T.high]                    0.0167      0.217      0.077      0.939      -0.409       0.443\n",
      "ExerciseAngina[T.Y]              0.6628      0.156      4.260      0.000       0.358       0.968\n",
      "Oldpeak[T.mid]                  -0.2604      0.166     -1.568      0.117      -0.586       0.065\n",
      "Oldpeak[T.high]                  0.2702      0.200      1.349      0.177      -0.122       0.663\n",
      "ST_Slope[T.Flat]                 0.5270      0.262      2.011      0.044       0.013       1.041\n",
      "ST_Slope[T.Up]                  -1.0433      0.279     -3.737      0.000      -1.590      -0.496\n",
      "================================================================================================\n"
     ]
    }
   ],
   "source": [
    "formula = 'HeartDisease ~ Age + Sex + ChestPainType + RestingBP + Cholesterol + FastingBS + RestingECG + MaxHR + ExerciseAngina + Oldpeak + ST_Slope'\n",
    "probit_2 = smf.glm(formula = formula, data = train_cat_data, family = sm.families.Binomial(link = sm.genmod.families.links.probit()))\n",
    "probit_2_results = probit_2.fit()\n",
    "print(probit_2_results.summary())"
   ]
  },
  {
   "cell_type": "code",
   "execution_count": 244,
   "metadata": {},
   "outputs": [
    {
     "name": "stdout",
     "output_type": "stream",
     "text": [
      "                 Generalized Linear Model Regression Results                  \n",
      "==============================================================================\n",
      "Dep. Variable:           HeartDisease   No. Observations:                  733\n",
      "Model:                            GLM   Df Residuals:                      720\n",
      "Model Family:                Binomial   Df Model:                           12\n",
      "Link Function:                 probit   Scale:                          1.0000\n",
      "Method:                          IRLS   Log-Likelihood:                -236.21\n",
      "Date:                Sun, 24 Jul 2022   Deviance:                       472.42\n",
      "Time:                        14:38:35   Pearson chi2:                     707.\n",
      "No. Iterations:                     7   Pseudo R-squ. (CS):             0.5208\n",
      "Covariance Type:            nonrobust                                         \n",
      "==================================================================================================================\n",
      "                                                     coef    std err          z      P>|z|      [0.025      0.975]\n",
      "------------------------------------------------------------------------------------------------------------------\n",
      "Intercept                                          0.3462      0.319      1.085      0.278      -0.279       0.972\n",
      "Sex[T.M]                                           0.8419      0.172      4.891      0.000       0.505       1.179\n",
      "ChestPainType[T.ATA]                              -1.0978      0.204     -5.389      0.000      -1.497      -0.699\n",
      "ChestPainType[T.NAP]                              -0.9710      0.161     -6.027      0.000      -1.287      -0.655\n",
      "ChestPainType[T.TA]                               -0.8138      0.279     -2.913      0.004      -1.361      -0.266\n",
      "Cholesterol[T.Middle - high]                      -0.5736      0.167     -3.425      0.001      -0.902      -0.245\n",
      "Cholesterol[T.High]                               -0.3395      0.160     -2.116      0.034      -0.654      -0.025\n",
      "FastingBS[T.1]                                     0.6853      0.167      4.091      0.000       0.357       1.014\n",
      "ExerciseAngina[T.Y]                                0.6577      0.148      4.447      0.000       0.368       0.948\n",
      "C(Oldpeak, Treatment(reference=\"high\"))[T.low]    -0.2709      0.193     -1.401      0.161      -0.650       0.108\n",
      "C(Oldpeak, Treatment(reference=\"high\"))[T.mid]    -0.5471      0.177     -3.096      0.002      -0.893      -0.201\n",
      "ST_Slope[T.Flat]                                   0.4755      0.259      1.834      0.067      -0.033       0.984\n",
      "ST_Slope[T.Up]                                    -1.0888      0.272     -4.000      0.000      -1.622      -0.555\n",
      "==================================================================================================================\n"
     ]
    }
   ],
   "source": [
    "formula = 'HeartDisease ~ Sex + ChestPainType + Cholesterol + FastingBS + ExerciseAngina + C(Oldpeak, Treatment(reference = \"high\")) + ST_Slope'\n",
    "probit_2 = smf.glm(formula = formula, data = train_cat_data, family = sm.families.Binomial(link = sm.genmod.families.links.probit()))\n",
    "probit_2_results = probit_2.fit()\n",
    "print(probit_2_results.summary())"
   ]
  },
  {
   "cell_type": "markdown",
   "metadata": {},
   "source": [
    "Among models with categorized data all variables are also statisticly significance beside age, max heart rate, resting blood pressure and resting electrocardiogram results. Also these variables will be removed from logit and probit model with categorized data."
   ]
  },
  {
   "cell_type": "markdown",
   "metadata": {},
   "source": [
    "## Model evaluation\n",
    "\n",
    "Model evaluation will be done based on:\n",
    "<ul>\n",
    "<li>VIF</li>\n",
    "<li>Loglikelihood test</li>\n",
    "<li>Wald test</li>\n",
    "<li>Goodnes of fit based on information criterion and pseudo R-squareds indicators</li>\n",
    "<li>Prediction of quality assessment based on confusion matrix and precision scores</li>\n",
    "<li>ROC function with AUC score</li>\n",
    "</ul>"
   ]
  },
  {
   "cell_type": "markdown",
   "metadata": {},
   "source": [
    "### VIF (variance inflation factor)\n",
    "\n",
    "Only VIF for logit models will be calculated, because data is the same for probit models."
   ]
  },
  {
   "cell_type": "code",
   "execution_count": 245,
   "metadata": {},
   "outputs": [],
   "source": [
    "def vif(model):\n",
    "    variable = model.model.exog\n",
    "    vif_res = [variance_inflation_factor(variable, i) for i in range(variable.shape[1])]\n",
    "    return pd.DataFrame({'Variable name':model.model.exog_names, 'VIF': vif_res})"
   ]
  },
  {
   "cell_type": "code",
   "execution_count": 246,
   "metadata": {},
   "outputs": [
    {
     "data": {
      "text/html": [
       "<div>\n",
       "<style scoped>\n",
       "    .dataframe tbody tr th:only-of-type {\n",
       "        vertical-align: middle;\n",
       "    }\n",
       "\n",
       "    .dataframe tbody tr th {\n",
       "        vertical-align: top;\n",
       "    }\n",
       "\n",
       "    .dataframe thead th {\n",
       "        text-align: right;\n",
       "    }\n",
       "</style>\n",
       "<table border=\"1\" class=\"dataframe\">\n",
       "  <thead>\n",
       "    <tr style=\"text-align: right;\">\n",
       "      <th></th>\n",
       "      <th>Variable name</th>\n",
       "      <th>VIF</th>\n",
       "    </tr>\n",
       "  </thead>\n",
       "  <tbody>\n",
       "    <tr>\n",
       "      <th>0</th>\n",
       "      <td>Intercept</td>\n",
       "      <td>32.046955</td>\n",
       "    </tr>\n",
       "    <tr>\n",
       "      <th>1</th>\n",
       "      <td>Sex[T.M]</td>\n",
       "      <td>1.121425</td>\n",
       "    </tr>\n",
       "    <tr>\n",
       "      <th>2</th>\n",
       "      <td>ChestPainType[T.ATA]</td>\n",
       "      <td>1.530180</td>\n",
       "    </tr>\n",
       "    <tr>\n",
       "      <th>3</th>\n",
       "      <td>ChestPainType[T.NAP]</td>\n",
       "      <td>1.270828</td>\n",
       "    </tr>\n",
       "    <tr>\n",
       "      <th>4</th>\n",
       "      <td>ChestPainType[T.TA]</td>\n",
       "      <td>1.093084</td>\n",
       "    </tr>\n",
       "    <tr>\n",
       "      <th>5</th>\n",
       "      <td>FastingBS[T.1]</td>\n",
       "      <td>1.108991</td>\n",
       "    </tr>\n",
       "    <tr>\n",
       "      <th>6</th>\n",
       "      <td>ExerciseAngina[T.Y]</td>\n",
       "      <td>1.531889</td>\n",
       "    </tr>\n",
       "    <tr>\n",
       "      <th>7</th>\n",
       "      <td>ST_Slope[T.Flat]</td>\n",
       "      <td>4.523134</td>\n",
       "    </tr>\n",
       "    <tr>\n",
       "      <th>8</th>\n",
       "      <td>ST_Slope[T.Up]</td>\n",
       "      <td>5.497837</td>\n",
       "    </tr>\n",
       "    <tr>\n",
       "      <th>9</th>\n",
       "      <td>Cholesterol</td>\n",
       "      <td>1.160297</td>\n",
       "    </tr>\n",
       "    <tr>\n",
       "      <th>10</th>\n",
       "      <td>Oldpeak</td>\n",
       "      <td>1.505147</td>\n",
       "    </tr>\n",
       "  </tbody>\n",
       "</table>\n",
       "</div>"
      ],
      "text/plain": [
       "           Variable name        VIF\n",
       "0              Intercept  32.046955\n",
       "1               Sex[T.M]   1.121425\n",
       "2   ChestPainType[T.ATA]   1.530180\n",
       "3   ChestPainType[T.NAP]   1.270828\n",
       "4    ChestPainType[T.TA]   1.093084\n",
       "5         FastingBS[T.1]   1.108991\n",
       "6    ExerciseAngina[T.Y]   1.531889\n",
       "7       ST_Slope[T.Flat]   4.523134\n",
       "8         ST_Slope[T.Up]   5.497837\n",
       "9            Cholesterol   1.160297\n",
       "10               Oldpeak   1.505147"
      ]
     },
     "execution_count": 246,
     "metadata": {},
     "output_type": "execute_result"
    }
   ],
   "source": [
    "non_categorized_data_vif = vif(logit_1_results)\n",
    "non_categorized_data_vif"
   ]
  },
  {
   "cell_type": "code",
   "execution_count": 247,
   "metadata": {},
   "outputs": [
    {
     "data": {
      "text/html": [
       "<div>\n",
       "<style scoped>\n",
       "    .dataframe tbody tr th:only-of-type {\n",
       "        vertical-align: middle;\n",
       "    }\n",
       "\n",
       "    .dataframe tbody tr th {\n",
       "        vertical-align: top;\n",
       "    }\n",
       "\n",
       "    .dataframe thead th {\n",
       "        text-align: right;\n",
       "    }\n",
       "</style>\n",
       "<table border=\"1\" class=\"dataframe\">\n",
       "  <thead>\n",
       "    <tr style=\"text-align: right;\">\n",
       "      <th></th>\n",
       "      <th>Variable name</th>\n",
       "      <th>VIF</th>\n",
       "    </tr>\n",
       "  </thead>\n",
       "  <tbody>\n",
       "    <tr>\n",
       "      <th>0</th>\n",
       "      <td>Intercept</td>\n",
       "      <td>27.602314</td>\n",
       "    </tr>\n",
       "    <tr>\n",
       "      <th>1</th>\n",
       "      <td>Sex[T.M]</td>\n",
       "      <td>1.113869</td>\n",
       "    </tr>\n",
       "    <tr>\n",
       "      <th>2</th>\n",
       "      <td>ChestPainType[T.ATA]</td>\n",
       "      <td>1.531509</td>\n",
       "    </tr>\n",
       "    <tr>\n",
       "      <th>3</th>\n",
       "      <td>ChestPainType[T.NAP]</td>\n",
       "      <td>1.275354</td>\n",
       "    </tr>\n",
       "    <tr>\n",
       "      <th>4</th>\n",
       "      <td>ChestPainType[T.TA]</td>\n",
       "      <td>1.097276</td>\n",
       "    </tr>\n",
       "    <tr>\n",
       "      <th>5</th>\n",
       "      <td>Cholesterol[T.Middle - high]</td>\n",
       "      <td>1.377304</td>\n",
       "    </tr>\n",
       "    <tr>\n",
       "      <th>6</th>\n",
       "      <td>Cholesterol[T.High]</td>\n",
       "      <td>1.423022</td>\n",
       "    </tr>\n",
       "    <tr>\n",
       "      <th>7</th>\n",
       "      <td>FastingBS[T.1]</td>\n",
       "      <td>1.087400</td>\n",
       "    </tr>\n",
       "    <tr>\n",
       "      <th>8</th>\n",
       "      <td>ExerciseAngina[T.Y]</td>\n",
       "      <td>1.535896</td>\n",
       "    </tr>\n",
       "    <tr>\n",
       "      <th>9</th>\n",
       "      <td>C(Oldpeak, Treatment(reference=\"high\"))[T.low]</td>\n",
       "      <td>2.228510</td>\n",
       "    </tr>\n",
       "    <tr>\n",
       "      <th>10</th>\n",
       "      <td>C(Oldpeak, Treatment(reference=\"high\"))[T.mid]</td>\n",
       "      <td>1.671743</td>\n",
       "    </tr>\n",
       "    <tr>\n",
       "      <th>11</th>\n",
       "      <td>ST_Slope[T.Flat]</td>\n",
       "      <td>4.308037</td>\n",
       "    </tr>\n",
       "    <tr>\n",
       "      <th>12</th>\n",
       "      <td>ST_Slope[T.Up]</td>\n",
       "      <td>5.139079</td>\n",
       "    </tr>\n",
       "  </tbody>\n",
       "</table>\n",
       "</div>"
      ],
      "text/plain": [
       "                                     Variable name        VIF\n",
       "0                                        Intercept  27.602314\n",
       "1                                         Sex[T.M]   1.113869\n",
       "2                             ChestPainType[T.ATA]   1.531509\n",
       "3                             ChestPainType[T.NAP]   1.275354\n",
       "4                              ChestPainType[T.TA]   1.097276\n",
       "5                     Cholesterol[T.Middle - high]   1.377304\n",
       "6                              Cholesterol[T.High]   1.423022\n",
       "7                                   FastingBS[T.1]   1.087400\n",
       "8                              ExerciseAngina[T.Y]   1.535896\n",
       "9   C(Oldpeak, Treatment(reference=\"high\"))[T.low]   2.228510\n",
       "10  C(Oldpeak, Treatment(reference=\"high\"))[T.mid]   1.671743\n",
       "11                                ST_Slope[T.Flat]   4.308037\n",
       "12                                  ST_Slope[T.Up]   5.139079"
      ]
     },
     "execution_count": 247,
     "metadata": {},
     "output_type": "execute_result"
    }
   ],
   "source": [
    "categorized_data_vif = vif(logit_2_results)\n",
    "categorized_data_vif"
   ]
  },
  {
   "cell_type": "markdown",
   "metadata": {},
   "source": [
    "For both data types nearly all variables have vif less than 10, which indicates no  to little multicolinearity between them. "
   ]
  },
  {
   "cell_type": "markdown",
   "metadata": {},
   "source": [
    "### Log likelihood test"
   ]
  },
  {
   "cell_type": "code",
   "execution_count": 248,
   "metadata": {},
   "outputs": [],
   "source": [
    "#Method to calculate lrtest\n",
    "def lrtest(Y, X, link, data, type):\n",
    "    #Creating dataframe with lr test statistics and p-values\n",
    "    output = pd.DataFrame(columns = ['DF model full', 'LogLink', 'DF diff', 'Chisq', 'P-value'])\n",
    "\n",
    "    if type == 1:\n",
    "        #Creation of formulas list\n",
    "        formula = Y + ' ~ '\n",
    "        formulas_list = []\n",
    "        for i in list(range(0,len(X))):\n",
    "            if i == 0:\n",
    "                formula = formula + X[i] \n",
    "            else: formula = formula + \" + \" + X[i]\n",
    "            formulas_list.append(formula)\n",
    "    elif type == 3:\n",
    "        formula = Y + ' ~ '\n",
    "        formulas_list = []\n",
    "\n",
    "        for i in list(range(0,len(X))):\n",
    "            X_new = X.drop(X[i])\n",
    "            formula = Y + ' ~ '\n",
    "            for i in list(range(0,len(X_new))):\n",
    "                if i == 0:\n",
    "                    formula = formula + X_new[i] \n",
    "                else: formula = formula + \" + \" + X_new[i]\n",
    "            formulas_list.append(formula)\n",
    "\n",
    "    #First model is one with \n",
    "    model_b = smf.glm(formula = formulas_list[0], data = data, family = sm.families.Binomial(link = link)).fit()\n",
    "\n",
    "    output = pd.DataFrame(columns = ['Model number','DF', 'LogLink', 'DF diff', 'Chisq', 'P-value'])\n",
    "\n",
    "    output = pd.concat([output, pd.DataFrame([{'Model number': 1,'DF': model_b.df_model, 'LogLink': model_b.llf, 'DF diff': '', 'Chisq': '', 'P-value': ''}])], ignore_index=True)\n",
    "\n",
    "    for i in list(range(1, len(formulas_list))):\n",
    "        model_f = smf.glm(formula = formulas_list[i], data = data, family = sm.families.Binomial(link = link)).fit()\n",
    "\n",
    "        model_b_df = model_b.df_model\n",
    "        model_f_df = model_f.df_model\n",
    "        \n",
    "        df_diff = model_f_df - model_b_df\n",
    "\n",
    "        model_b_ll = model_b.llf\n",
    "        model_f_ll = model_f.llf\n",
    "        LR_statistic = -2*(model_b_ll - model_f_ll)\n",
    "        p_val = scipy.stats.chi2.sf(LR_statistic, abs(model_f.df_model - model_b.df_model))\n",
    "        if str(p_val) == 'nan': p_val = 0\n",
    "\n",
    "        output = pd.concat([output, pd.DataFrame([{'Model number': i+1,'DF': model_f_df, 'LogLink': round(model_f_ll,2), 'DF diff': df_diff, 'Chisq': round(LR_statistic,3), 'P-value': round(p_val,3)}])], ignore_index=True)\n",
    "        \n",
    "        model_b = model_f\n",
    "\n",
    "    return formulas_list, output"
   ]
  },
  {
   "cell_type": "markdown",
   "metadata": {},
   "source": [
    "#### LR test logit model 1"
   ]
  },
  {
   "cell_type": "code",
   "execution_count": 249,
   "metadata": {},
   "outputs": [
    {
     "data": {
      "text/plain": [
       "(['HeartDisease ~ Sex',\n",
       "  'HeartDisease ~ Sex + ChestPainType',\n",
       "  'HeartDisease ~ Sex + ChestPainType + Cholesterol',\n",
       "  'HeartDisease ~ Sex + ChestPainType + Cholesterol + FastingBS',\n",
       "  'HeartDisease ~ Sex + ChestPainType + Cholesterol + FastingBS + ExerciseAngina',\n",
       "  'HeartDisease ~ Sex + ChestPainType + Cholesterol + FastingBS + ExerciseAngina + Oldpeak',\n",
       "  'HeartDisease ~ Sex + ChestPainType + Cholesterol + FastingBS + ExerciseAngina + Oldpeak + ST_Slope'],\n",
       "   Model number  DF   LogLink DF diff    Chisq P-value\n",
       " 0            1   1 -469.0027                         \n",
       " 1            2   4   -366.25       3  205.507     0.0\n",
       " 2            3   5   -356.04       1    20.41     0.0\n",
       " 3            4   6   -344.37       1   23.355     0.0\n",
       " 4            5   7   -306.84       1    75.05     0.0\n",
       " 5            6   8   -286.02       1   41.651     0.0\n",
       " 6            7  10   -235.24       2  101.543     0.0)"
      ]
     },
     "execution_count": 249,
     "metadata": {},
     "output_type": "execute_result"
    }
   ],
   "source": [
    "lrtest(Y = 'HeartDisease', X = train_data.drop(['HeartDisease', 'Age', 'RestingBP', 'RestingECG','MaxHR'], axis = 1).columns, link = sm.genmod.families.links.logit(), data = train_data, type = 1)"
   ]
  },
  {
   "cell_type": "code",
   "execution_count": 250,
   "metadata": {},
   "outputs": [
    {
     "data": {
      "text/plain": [
       "(['HeartDisease ~ ChestPainType + Cholesterol + FastingBS + ExerciseAngina + Oldpeak + ST_Slope',\n",
       "  'HeartDisease ~ Sex + Cholesterol + FastingBS + ExerciseAngina + Oldpeak + ST_Slope',\n",
       "  'HeartDisease ~ Sex + ChestPainType + FastingBS + ExerciseAngina + Oldpeak + ST_Slope',\n",
       "  'HeartDisease ~ Sex + ChestPainType + Cholesterol + ExerciseAngina + Oldpeak + ST_Slope',\n",
       "  'HeartDisease ~ Sex + ChestPainType + Cholesterol + FastingBS + Oldpeak + ST_Slope',\n",
       "  'HeartDisease ~ Sex + ChestPainType + Cholesterol + FastingBS + ExerciseAngina + ST_Slope',\n",
       "  'HeartDisease ~ Sex + ChestPainType + Cholesterol + FastingBS + ExerciseAngina + Oldpeak'],\n",
       "   Model number DF     LogLink DF diff   Chisq P-value\n",
       " 0            1  9 -245.883631                        \n",
       " 1            2  7     -259.45      -2  -27.13     1.0\n",
       " 2            3  9     -243.07       2  32.758     0.0\n",
       " 3            4  9     -241.61       0   2.928       0\n",
       " 4            5  9     -242.41       0  -1.605       0\n",
       " 5            6  9     -241.37       0   2.081       0\n",
       " 6            7  8     -286.02      -1 -89.297     1.0)"
      ]
     },
     "execution_count": 250,
     "metadata": {},
     "output_type": "execute_result"
    }
   ],
   "source": [
    "lrtest(Y = 'HeartDisease', X = train_data.drop(['HeartDisease', 'Age', 'RestingBP', 'RestingECG','MaxHR'], axis = 1).columns, link = sm.genmod.families.links.logit(), data = train_data, type = 3)"
   ]
  },
  {
   "cell_type": "markdown",
   "metadata": {},
   "source": [
    "#### LR test probit model 1"
   ]
  },
  {
   "cell_type": "code",
   "execution_count": 251,
   "metadata": {},
   "outputs": [
    {
     "data": {
      "text/plain": [
       "(['HeartDisease ~ Sex',\n",
       "  'HeartDisease ~ Sex + ChestPainType',\n",
       "  'HeartDisease ~ Sex + ChestPainType + Cholesterol',\n",
       "  'HeartDisease ~ Sex + ChestPainType + Cholesterol + FastingBS',\n",
       "  'HeartDisease ~ Sex + ChestPainType + Cholesterol + FastingBS + ExerciseAngina',\n",
       "  'HeartDisease ~ Sex + ChestPainType + Cholesterol + FastingBS + ExerciseAngina + Oldpeak',\n",
       "  'HeartDisease ~ Sex + ChestPainType + Cholesterol + FastingBS + ExerciseAngina + Oldpeak + ST_Slope'],\n",
       "   Model number  DF   LogLink DF diff    Chisq P-value\n",
       " 0            1   1 -469.0027                         \n",
       " 1            2   4   -366.73       3  204.552     0.0\n",
       " 2            3   5    -356.9       1   19.661     0.0\n",
       " 3            4   6   -344.66       1   24.475     0.0\n",
       " 4            5   7   -307.01       1   75.301     0.0\n",
       " 5            6   8   -286.46       1   41.088     0.0\n",
       " 6            7  10   -235.47       2  101.986     0.0)"
      ]
     },
     "execution_count": 251,
     "metadata": {},
     "output_type": "execute_result"
    }
   ],
   "source": [
    "lrtest(Y = 'HeartDisease', X = train_data.drop(['HeartDisease', 'Age', 'RestingBP', 'RestingECG','MaxHR'], axis = 1).columns, link = sm.genmod.families.links.probit(), data = train_data, type = 1)"
   ]
  },
  {
   "cell_type": "code",
   "execution_count": 252,
   "metadata": {},
   "outputs": [
    {
     "data": {
      "text/plain": [
       "(['HeartDisease ~ ChestPainType + Cholesterol + FastingBS + ExerciseAngina + Oldpeak + ST_Slope',\n",
       "  'HeartDisease ~ Sex + Cholesterol + FastingBS + ExerciseAngina + Oldpeak + ST_Slope',\n",
       "  'HeartDisease ~ Sex + ChestPainType + FastingBS + ExerciseAngina + Oldpeak + ST_Slope',\n",
       "  'HeartDisease ~ Sex + ChestPainType + Cholesterol + ExerciseAngina + Oldpeak + ST_Slope',\n",
       "  'HeartDisease ~ Sex + ChestPainType + Cholesterol + FastingBS + Oldpeak + ST_Slope',\n",
       "  'HeartDisease ~ Sex + ChestPainType + Cholesterol + FastingBS + ExerciseAngina + ST_Slope',\n",
       "  'HeartDisease ~ Sex + ChestPainType + Cholesterol + FastingBS + ExerciseAngina + Oldpeak'],\n",
       "   Model number DF     LogLink DF diff   Chisq P-value\n",
       " 0            1  9 -245.315992                        \n",
       " 1            2  7     -261.23      -2 -31.831     1.0\n",
       " 2            3  9     -243.21       2  36.053     0.0\n",
       " 3            4  9      -242.6       0   1.208       0\n",
       " 4            5  9     -242.45       0   0.298       0\n",
       " 5            6  9     -240.68       0   3.537       0\n",
       " 6            7  8     -286.46      -1  -91.56     1.0)"
      ]
     },
     "execution_count": 252,
     "metadata": {},
     "output_type": "execute_result"
    }
   ],
   "source": [
    "lrtest(Y = 'HeartDisease', X = train_data.drop(['HeartDisease', 'Age', 'RestingBP', 'RestingECG','MaxHR'], axis = 1).columns, link = sm.genmod.families.links.probit(), data = train_data, type = 3)"
   ]
  },
  {
   "cell_type": "markdown",
   "metadata": {},
   "source": [
    "#### LR test logit model 2"
   ]
  },
  {
   "cell_type": "code",
   "execution_count": 253,
   "metadata": {},
   "outputs": [
    {
     "data": {
      "text/plain": [
       "(['HeartDisease ~ Sex',\n",
       "  'HeartDisease ~ Sex + ChestPainType',\n",
       "  'HeartDisease ~ Sex + ChestPainType + Cholesterol',\n",
       "  'HeartDisease ~ Sex + ChestPainType + Cholesterol + FastingBS',\n",
       "  'HeartDisease ~ Sex + ChestPainType + Cholesterol + FastingBS + ExerciseAngina',\n",
       "  'HeartDisease ~ Sex + ChestPainType + Cholesterol + FastingBS + ExerciseAngina + Oldpeak',\n",
       "  'HeartDisease ~ Sex + ChestPainType + Cholesterol + FastingBS + ExerciseAngina + Oldpeak + ST_Slope'],\n",
       "   Model number  DF   LogLink DF diff    Chisq P-value\n",
       " 0            1   1 -469.0027                         \n",
       " 1            2   4   -366.25       3  205.507     0.0\n",
       " 2            3   6   -359.91       2   12.675   0.002\n",
       " 3            4   7   -346.33       1    27.16     0.0\n",
       " 4            5   8   -308.11       1   76.437     0.0\n",
       " 5            6  10   -293.26       2   29.716     0.0\n",
       " 6            7  12   -236.21       2  114.098     0.0)"
      ]
     },
     "execution_count": 253,
     "metadata": {},
     "output_type": "execute_result"
    }
   ],
   "source": [
    "lrtest(Y = 'HeartDisease', X = train_cat_data.drop(['HeartDisease', 'Age', 'RestingBP', 'RestingECG','MaxHR'], axis = 1).columns, link = sm.genmod.families.links.logit(), data = train_cat_data, type = 1)"
   ]
  },
  {
   "cell_type": "code",
   "execution_count": 254,
   "metadata": {},
   "outputs": [
    {
     "data": {
      "text/plain": [
       "(['HeartDisease ~ ChestPainType + Cholesterol + FastingBS + ExerciseAngina + Oldpeak + ST_Slope',\n",
       "  'HeartDisease ~ Sex + Cholesterol + FastingBS + ExerciseAngina + Oldpeak + ST_Slope',\n",
       "  'HeartDisease ~ Sex + ChestPainType + FastingBS + ExerciseAngina + Oldpeak + ST_Slope',\n",
       "  'HeartDisease ~ Sex + ChestPainType + Cholesterol + ExerciseAngina + Oldpeak + ST_Slope',\n",
       "  'HeartDisease ~ Sex + ChestPainType + Cholesterol + FastingBS + Oldpeak + ST_Slope',\n",
       "  'HeartDisease ~ Sex + ChestPainType + Cholesterol + FastingBS + ExerciseAngina + ST_Slope',\n",
       "  'HeartDisease ~ Sex + ChestPainType + Cholesterol + FastingBS + ExerciseAngina + Oldpeak'],\n",
       "   Model number  DF     LogLink DF diff    Chisq P-value\n",
       " 0            1  11 -249.050693                         \n",
       " 1            2   9     -261.85      -2  -25.591     1.0\n",
       " 2            3  10      -242.1       1   39.488     0.0\n",
       " 3            4  11     -244.45       1   -4.699     1.0\n",
       " 4            5  11     -246.38       0   -3.866       0\n",
       " 5            6  10     -241.94      -1    8.886   0.003\n",
       " 6            7  10     -293.26       0 -102.627       0)"
      ]
     },
     "execution_count": 254,
     "metadata": {},
     "output_type": "execute_result"
    }
   ],
   "source": [
    "lrtest(Y = 'HeartDisease', X = train_cat_data.drop(['HeartDisease', 'Age', 'RestingBP', 'RestingECG','MaxHR'], axis = 1).columns, link = sm.genmod.families.links.logit(), data = train_cat_data, type = 3)"
   ]
  },
  {
   "cell_type": "markdown",
   "metadata": {},
   "source": [
    "#### LR Test probit model 2"
   ]
  },
  {
   "cell_type": "code",
   "execution_count": 255,
   "metadata": {},
   "outputs": [
    {
     "data": {
      "text/plain": [
       "(['HeartDisease ~ Sex',\n",
       "  'HeartDisease ~ Sex + ChestPainType',\n",
       "  'HeartDisease ~ Sex + ChestPainType + Cholesterol',\n",
       "  'HeartDisease ~ Sex + ChestPainType + Cholesterol + FastingBS',\n",
       "  'HeartDisease ~ Sex + ChestPainType + Cholesterol + FastingBS + ExerciseAngina',\n",
       "  'HeartDisease ~ Sex + ChestPainType + Cholesterol + FastingBS + ExerciseAngina + Oldpeak',\n",
       "  'HeartDisease ~ Sex + ChestPainType + Cholesterol + FastingBS + ExerciseAngina + Oldpeak + ST_Slope'],\n",
       "   Model number  DF   LogLink DF diff    Chisq P-value\n",
       " 0            1   1 -469.0027                         \n",
       " 1            2   4   -366.73       3  204.552     0.0\n",
       " 2            3   6   -360.42       2   12.605   0.002\n",
       " 3            4   7   -346.53       1   27.796     0.0\n",
       " 4            5   8   -308.27       1   76.509     0.0\n",
       " 5            6  10   -294.22       2   28.101     0.0\n",
       " 6            7  12   -236.21       2  116.021     0.0)"
      ]
     },
     "execution_count": 255,
     "metadata": {},
     "output_type": "execute_result"
    }
   ],
   "source": [
    "lrtest(Y = 'HeartDisease', X = train_cat_data.drop(['HeartDisease', 'Age', 'RestingBP', 'RestingECG','MaxHR'], axis = 1).columns, link = sm.genmod.families.links.probit(), data = train_cat_data, type = 1)"
   ]
  },
  {
   "cell_type": "code",
   "execution_count": 256,
   "metadata": {},
   "outputs": [
    {
     "data": {
      "text/plain": [
       "(['HeartDisease ~ ChestPainType + Cholesterol + FastingBS + ExerciseAngina + Oldpeak + ST_Slope',\n",
       "  'HeartDisease ~ Sex + Cholesterol + FastingBS + ExerciseAngina + Oldpeak + ST_Slope',\n",
       "  'HeartDisease ~ Sex + ChestPainType + FastingBS + ExerciseAngina + Oldpeak + ST_Slope',\n",
       "  'HeartDisease ~ Sex + ChestPainType + Cholesterol + ExerciseAngina + Oldpeak + ST_Slope',\n",
       "  'HeartDisease ~ Sex + ChestPainType + Cholesterol + FastingBS + Oldpeak + ST_Slope',\n",
       "  'HeartDisease ~ Sex + ChestPainType + Cholesterol + FastingBS + ExerciseAngina + ST_Slope',\n",
       "  'HeartDisease ~ Sex + ChestPainType + Cholesterol + FastingBS + ExerciseAngina + Oldpeak'],\n",
       "   Model number  DF     LogLink DF diff    Chisq P-value\n",
       " 0            1  11 -248.737679                         \n",
       " 1            2   9     -263.08      -2  -28.685     1.0\n",
       " 2            3  10     -242.17       1   41.827     0.0\n",
       " 3            4  11     -244.88       1   -5.423     1.0\n",
       " 4            5  11      -246.0       0   -2.239       0\n",
       " 5            6  10     -241.51      -1    8.971   0.003\n",
       " 6            7  10     -294.22       0 -105.417       0)"
      ]
     },
     "execution_count": 256,
     "metadata": {},
     "output_type": "execute_result"
    }
   ],
   "source": [
    "lrtest(Y = 'HeartDisease', X = train_cat_data.drop(['HeartDisease', 'Age', 'RestingBP', 'RestingECG','MaxHR'], axis = 1).columns, link = sm.genmod.families.links.probit(), data = train_cat_data, type = 3)"
   ]
  },
  {
   "cell_type": "markdown",
   "metadata": {},
   "source": [
    "#### LR test conclusions\n",
    "\n",
    "Variables such as age, max heart rate, resting bloop pressure and resting ecg where not used during that test, because of exclusion based on significance tests.<br>\n",
    "\n",
    "Based on likelihood tests for logit and probit models with categorized and non categorized data all remaining variables are statisticly significant. Adding new variables brings something new to models and also decrease log likelihood."
   ]
  },
  {
   "cell_type": "markdown",
   "metadata": {},
   "source": [
    "### Wald Test"
   ]
  },
  {
   "cell_type": "code",
   "execution_count": 257,
   "metadata": {},
   "outputs": [],
   "source": [
    "def wald_test(model_results):\n",
    "    hypothesis_list = []\n",
    "    params = list(pd.DataFrame(model_results.params).reset_index()['index'])[1:]\n",
    "\n",
    "    for i in params:\n",
    "        hypothesis_list.append('{0} = 0'.format(i))\n",
    "\n",
    "    for i in hypothesis_list:\n",
    "        print(\"Hypothesis: {0}\\n{1}\\n\".format(i,model_results.wald_test(r_matrix = i)))\n",
    "    "
   ]
  },
  {
   "cell_type": "code",
   "execution_count": 258,
   "metadata": {},
   "outputs": [
    {
     "name": "stdout",
     "output_type": "stream",
     "text": [
      "Hypothesis: Sex[T.M] = 0\n",
      "<Wald test (chi2): statistic=[[20.04278938]], p-value=7.572853293644245e-06, df_denom=1>\n",
      "\n",
      "Hypothesis: ChestPainType[T.ATA] = 0\n",
      "<Wald test (chi2): statistic=[[21.86386669]], p-value=2.9269376420542625e-06, df_denom=1>\n",
      "\n",
      "Hypothesis: ChestPainType[T.NAP] = 0\n",
      "<Wald test (chi2): statistic=[[33.09463283]], p-value=8.778069513983068e-09, df_denom=1>\n",
      "\n",
      "Hypothesis: ChestPainType[T.TA] = 0\n",
      "<Wald test (chi2): statistic=[[9.63731859]], p-value=0.0019066337245826819, df_denom=1>\n",
      "\n",
      "Hypothesis: FastingBS[T.1] = 0\n",
      "<Wald test (chi2): statistic=[[12.01498774]], p-value=0.0005277443517661933, df_denom=1>\n",
      "\n",
      "Hypothesis: ExerciseAngina[T.Y] = 0\n",
      "<Wald test (chi2): statistic=[[14.29320514]], p-value=0.00015642852467972026, df_denom=1>\n",
      "\n",
      "Hypothesis: ST_Slope[T.Flat] = 0\n",
      "<Wald test (chi2): statistic=[[6.15658069]], p-value=0.013092405829294274, df_denom=1>\n",
      "\n",
      "Hypothesis: ST_Slope[T.Up] = 0\n",
      "<Wald test (chi2): statistic=[[7.18368473]], p-value=0.007356946280001392, df_denom=1>\n",
      "\n",
      "Hypothesis: Cholesterol = 0\n",
      "<Wald test (chi2): statistic=[[14.77378653]], p-value=0.0001212087743738915, df_denom=1>\n",
      "\n",
      "Hypothesis: Oldpeak = 0\n",
      "<Wald test (chi2): statistic=[[11.54017051]], p-value=0.0006810839345861161, df_denom=1>\n",
      "\n"
     ]
    },
    {
     "name": "stderr",
     "output_type": "stream",
     "text": [
      "/opt/anaconda3/envs/basic_env/lib/python3.9/site-packages/statsmodels/base/model.py:1889: FutureWarning: The behavior of wald_test will change after 0.14 to returning scalar test statistic values. To get the future behavior now, set scalar to True. To silence this message while retaining the legacy behavior, set scalar to False.\n",
      "  warnings.warn(\n"
     ]
    }
   ],
   "source": [
    "wald_test(logit_1_results)"
   ]
  },
  {
   "cell_type": "code",
   "execution_count": 259,
   "metadata": {},
   "outputs": [
    {
     "name": "stdout",
     "output_type": "stream",
     "text": [
      "Hypothesis: Sex[T.M] = 0\n",
      "<Wald test (chi2): statistic=[[19.06812934]], p-value=1.2613379234583358e-05, df_denom=1>\n",
      "\n",
      "Hypothesis: ChestPainType[T.ATA] = 0\n",
      "<Wald test (chi2): statistic=[[25.07795299]], p-value=5.505877801053829e-07, df_denom=1>\n",
      "\n",
      "Hypothesis: ChestPainType[T.NAP] = 0\n",
      "<Wald test (chi2): statistic=[[36.49696491]], p-value=1.5290415506954614e-09, df_denom=1>\n",
      "\n",
      "Hypothesis: ChestPainType[T.TA] = 0\n",
      "<Wald test (chi2): statistic=[[8.88586154]], p-value=0.0028738739942190004, df_denom=1>\n",
      "\n",
      "Hypothesis: FastingBS[T.1] = 0\n",
      "<Wald test (chi2): statistic=[[14.02468633]], p-value=0.00018042626820394278, df_denom=1>\n",
      "\n",
      "Hypothesis: ExerciseAngina[T.Y] = 0\n",
      "<Wald test (chi2): statistic=[[14.21742751]], p-value=0.00016285525513276173, df_denom=1>\n",
      "\n",
      "Hypothesis: ST_Slope[T.Flat] = 0\n",
      "<Wald test (chi2): statistic=[[5.4032512]], p-value=0.020099276362096862, df_denom=1>\n",
      "\n",
      "Hypothesis: ST_Slope[T.Up] = 0\n",
      "<Wald test (chi2): statistic=[[8.77991039]], p-value=0.0030456616130708236, df_denom=1>\n",
      "\n",
      "Hypothesis: Cholesterol = 0\n",
      "<Wald test (chi2): statistic=[[15.03985006]], p-value=0.00010526482288086661, df_denom=1>\n",
      "\n",
      "Hypothesis: Oldpeak = 0\n",
      "<Wald test (chi2): statistic=[[10.31269443]], p-value=0.0013211824652753646, df_denom=1>\n",
      "\n"
     ]
    },
    {
     "name": "stderr",
     "output_type": "stream",
     "text": [
      "/opt/anaconda3/envs/basic_env/lib/python3.9/site-packages/statsmodels/base/model.py:1889: FutureWarning: The behavior of wald_test will change after 0.14 to returning scalar test statistic values. To get the future behavior now, set scalar to True. To silence this message while retaining the legacy behavior, set scalar to False.\n",
      "  warnings.warn(\n"
     ]
    }
   ],
   "source": [
    "wald_test(probit_1_results)"
   ]
  },
  {
   "cell_type": "code",
   "execution_count": 260,
   "metadata": {},
   "outputs": [
    {
     "name": "stdout",
     "output_type": "stream",
     "text": [
      "Hypothesis: Sex[T.M] = 0\n",
      "<Wald test (chi2): statistic=[[23.72993485]], p-value=1.1084497322150278e-06, df_denom=1>\n",
      "\n",
      "Hypothesis: ChestPainType[T.ATA] = 0\n",
      "<Wald test (chi2): statistic=[[25.49162006]], p-value=4.4430854472968055e-07, df_denom=1>\n",
      "\n",
      "Hypothesis: ChestPainType[T.NAP] = 0\n",
      "<Wald test (chi2): statistic=[[33.11860392]], p-value=8.67051409248954e-09, df_denom=1>\n",
      "\n",
      "Hypothesis: ChestPainType[T.TA] = 0\n",
      "<Wald test (chi2): statistic=[[9.56647351]], p-value=0.0019816307722259224, df_denom=1>\n",
      "\n",
      "Hypothesis: Cholesterol[T.Middle - high] = 0\n",
      "<Wald test (chi2): statistic=[[11.36807572]], p-value=0.0007471724592982311, df_denom=1>\n",
      "\n",
      "Hypothesis: Cholesterol[T.High] = 0\n",
      "<Wald test (chi2): statistic=[[3.78922077]], p-value=0.05158365760969156, df_denom=1>\n",
      "\n",
      "Hypothesis: FastingBS[T.1] = 0\n",
      "<Wald test (chi2): statistic=[[15.3408807]], p-value=8.975310531172918e-05, df_denom=1>\n",
      "\n",
      "Hypothesis: ExerciseAngina[T.Y] = 0\n",
      "<Wald test (chi2): statistic=[[20.05254646]], p-value=7.534314091460812e-06, df_denom=1>\n",
      "\n",
      "Hypothesis: C(Oldpeak, Treatment(reference=\"high\"))[T.low] = 0\n",
      "<Wald test (chi2): statistic=[[2.671301]], p-value=0.10217247172286151, df_denom=1>\n",
      "\n",
      "Hypothesis: C(Oldpeak, Treatment(reference=\"high\"))[T.mid] = 0\n",
      "<Wald test (chi2): statistic=[[10.60902346]], p-value=0.0011253710856065377, df_denom=1>\n",
      "\n",
      "Hypothesis: ST_Slope[T.Flat] = 0\n",
      "<Wald test (chi2): statistic=[[3.24962128]], p-value=0.07143996272261242, df_denom=1>\n",
      "\n",
      "Hypothesis: ST_Slope[T.Up] = 0\n",
      "<Wald test (chi2): statistic=[[14.56748566]], p-value=0.0001352278683769754, df_denom=1>\n",
      "\n"
     ]
    },
    {
     "name": "stderr",
     "output_type": "stream",
     "text": [
      "/opt/anaconda3/envs/basic_env/lib/python3.9/site-packages/statsmodels/base/model.py:1889: FutureWarning: The behavior of wald_test will change after 0.14 to returning scalar test statistic values. To get the future behavior now, set scalar to True. To silence this message while retaining the legacy behavior, set scalar to False.\n",
      "  warnings.warn(\n"
     ]
    }
   ],
   "source": [
    "wald_test(logit_2_results)"
   ]
  },
  {
   "cell_type": "code",
   "execution_count": 261,
   "metadata": {},
   "outputs": [
    {
     "name": "stdout",
     "output_type": "stream",
     "text": [
      "Hypothesis: Sex[T.M] = 0\n",
      "<Wald test (chi2): statistic=[[23.92060888]], p-value=1.0039128008855082e-06, df_denom=1>\n",
      "\n",
      "Hypothesis: ChestPainType[T.ATA] = 0\n",
      "<Wald test (chi2): statistic=[[29.03916445]], p-value=7.092972131163191e-08, df_denom=1>\n",
      "\n",
      "Hypothesis: ChestPainType[T.NAP] = 0\n",
      "<Wald test (chi2): statistic=[[36.32192023]], p-value=1.6727189612572369e-09, df_denom=1>\n",
      "\n",
      "Hypothesis: ChestPainType[T.TA] = 0\n",
      "<Wald test (chi2): statistic=[[8.48341675]], p-value=0.003583983468291604, df_denom=1>\n",
      "\n",
      "Hypothesis: Cholesterol[T.Middle - high] = 0\n",
      "<Wald test (chi2): statistic=[[11.73184754]], p-value=0.0006143956853347463, df_denom=1>\n",
      "\n",
      "Hypothesis: Cholesterol[T.High] = 0\n",
      "<Wald test (chi2): statistic=[[4.47632587]], p-value=0.03436752734207094, df_denom=1>\n",
      "\n",
      "Hypothesis: FastingBS[T.1] = 0\n",
      "<Wald test (chi2): statistic=[[16.74035628]], p-value=4.28595554219817e-05, df_denom=1>\n",
      "\n",
      "Hypothesis: ExerciseAngina[T.Y] = 0\n",
      "<Wald test (chi2): statistic=[[19.77478668]], p-value=8.712442674105814e-06, df_denom=1>\n",
      "\n",
      "Hypothesis: C(Oldpeak, Treatment(reference=\"high\"))[T.low] = 0\n",
      "<Wald test (chi2): statistic=[[1.96222086]], p-value=0.16127600049341234, df_denom=1>\n",
      "\n",
      "Hypothesis: C(Oldpeak, Treatment(reference=\"high\"))[T.mid] = 0\n",
      "<Wald test (chi2): statistic=[[9.58774913]], p-value=0.0019587992803429253, df_denom=1>\n",
      "\n",
      "Hypothesis: ST_Slope[T.Flat] = 0\n",
      "<Wald test (chi2): statistic=[[3.36337737]], p-value=0.06666122344177564, df_denom=1>\n",
      "\n",
      "Hypothesis: ST_Slope[T.Up] = 0\n",
      "<Wald test (chi2): statistic=[[15.99647153]], p-value=6.346064835251204e-05, df_denom=1>\n",
      "\n"
     ]
    },
    {
     "name": "stderr",
     "output_type": "stream",
     "text": [
      "/opt/anaconda3/envs/basic_env/lib/python3.9/site-packages/statsmodels/base/model.py:1889: FutureWarning: The behavior of wald_test will change after 0.14 to returning scalar test statistic values. To get the future behavior now, set scalar to True. To silence this message while retaining the legacy behavior, set scalar to False.\n",
      "  warnings.warn(\n"
     ]
    }
   ],
   "source": [
    "wald_test(probit_2_results)"
   ]
  },
  {
   "cell_type": "markdown",
   "metadata": {},
   "source": [
    "#### Wald test conclusions\n",
    "Statistical tests for individual parameters of nearly beta models showed that the explanatory variables statistically significantly affect the dependent variable, i.e. the structural parameters of the model differ statistically significantly from zero.\n",
    "\n",
    "Only categories of variables ST_Slope (group = Flat) and Oldpeak (group = mid) are not statistically significantly, but for other types of these variables p value is less tham .05 so they will not be removed from models."
   ]
  },
  {
   "cell_type": "markdown",
   "metadata": {},
   "source": [
    "### Goodness of Fit"
   ]
  },
  {
   "cell_type": "code",
   "execution_count": 262,
   "metadata": {},
   "outputs": [],
   "source": [
    "#Method to calculate chosen goodness of fit statistics\n",
    "def goodOfFit(model, model_name):\n",
    "    aic = model.aic\n",
    "    bic = model.bic\n",
    "    mcFadden = 1 - (model.llf / model.llnull)\n",
    "    craggUhler = (1 - pow(exp(model.llnull) / exp(model.llf), 2/model.nobs)) / (1 - pow(exp(model.llnull), 2/model.nobs))\n",
    "    veallaZimmermann = (2 * (model.llf - model.llnull)) / (2 * (model.llf - model.llnull)  + model.nobs) * ((model.nobs - 2 * model.llnull) / (-2 * model.llnull))\n",
    "    estrell = 1 - (model.llf/ model.llnull)\n",
    "    return pd.DataFrame([{'Model name':model_name,'AIC':aic, 'BIC':bic, 'R^2 MC Fadden':mcFadden, 'R^2 Cragg - Uhler':craggUhler, 'R^2 Veall - Zimmermann':veallaZimmermann, 'R^2 Estrall':estrell}]).round(4)"
   ]
  },
  {
   "cell_type": "code",
   "execution_count": 263,
   "metadata": {},
   "outputs": [
    {
     "name": "stderr",
     "output_type": "stream",
     "text": [
      "/opt/anaconda3/envs/basic_env/lib/python3.9/site-packages/statsmodels/genmod/generalized_linear_model.py:1799: FutureWarning: The bic value is computed using the deviance formula. After 0.13 this will change to the log-likelihood based formula. This change has no impact on the relative rank of models compared using BIC. You can directly access the log-likelihood version using the `bic_llf` attribute. You can suppress this message by calling statsmodels.genmod.generalized_linear_model.SET_USE_BIC_LLF with True to get the LLF-based version now or False to retainthe deviance version.\n",
      "  warnings.warn(\n",
      "/opt/anaconda3/envs/basic_env/lib/python3.9/site-packages/statsmodels/genmod/generalized_linear_model.py:1799: FutureWarning: The bic value is computed using the deviance formula. After 0.13 this will change to the log-likelihood based formula. This change has no impact on the relative rank of models compared using BIC. You can directly access the log-likelihood version using the `bic_llf` attribute. You can suppress this message by calling statsmodels.genmod.generalized_linear_model.SET_USE_BIC_LLF with True to get the LLF-based version now or False to retainthe deviance version.\n",
      "  warnings.warn(\n",
      "/opt/anaconda3/envs/basic_env/lib/python3.9/site-packages/statsmodels/genmod/generalized_linear_model.py:1799: FutureWarning: The bic value is computed using the deviance formula. After 0.13 this will change to the log-likelihood based formula. This change has no impact on the relative rank of models compared using BIC. You can directly access the log-likelihood version using the `bic_llf` attribute. You can suppress this message by calling statsmodels.genmod.generalized_linear_model.SET_USE_BIC_LLF with True to get the LLF-based version now or False to retainthe deviance version.\n",
      "  warnings.warn(\n",
      "/opt/anaconda3/envs/basic_env/lib/python3.9/site-packages/statsmodels/genmod/generalized_linear_model.py:1799: FutureWarning: The bic value is computed using the deviance formula. After 0.13 this will change to the log-likelihood based formula. This change has no impact on the relative rank of models compared using BIC. You can directly access the log-likelihood version using the `bic_llf` attribute. You can suppress this message by calling statsmodels.genmod.generalized_linear_model.SET_USE_BIC_LLF with True to get the LLF-based version now or False to retainthe deviance version.\n",
      "  warnings.warn(\n"
     ]
    },
    {
     "data": {
      "text/html": [
       "<div>\n",
       "<style scoped>\n",
       "    .dataframe tbody tr th:only-of-type {\n",
       "        vertical-align: middle;\n",
       "    }\n",
       "\n",
       "    .dataframe tbody tr th {\n",
       "        vertical-align: top;\n",
       "    }\n",
       "\n",
       "    .dataframe thead th {\n",
       "        text-align: right;\n",
       "    }\n",
       "</style>\n",
       "<table border=\"1\" class=\"dataframe\">\n",
       "  <thead>\n",
       "    <tr style=\"text-align: right;\">\n",
       "      <th></th>\n",
       "      <th>Model name</th>\n",
       "      <th>AIC</th>\n",
       "      <th>BIC</th>\n",
       "      <th>R^2 MC Fadden</th>\n",
       "      <th>R^2 Cragg - Uhler</th>\n",
       "      <th>R^2 Veall - Zimmermann</th>\n",
       "      <th>R^2 Estrall</th>\n",
       "    </tr>\n",
       "  </thead>\n",
       "  <tbody>\n",
       "    <tr>\n",
       "      <th>0</th>\n",
       "      <td>Logit 1 (non categorized data)</td>\n",
       "      <td>492.4892</td>\n",
       "      <td>-4292.6500</td>\n",
       "      <td>0.5350</td>\n",
       "      <td>0.6976</td>\n",
       "      <td>0.7325</td>\n",
       "      <td>0.5350</td>\n",
       "    </tr>\n",
       "    <tr>\n",
       "      <th>1</th>\n",
       "      <td>Probit 1 (non categorized data)</td>\n",
       "      <td>492.9412</td>\n",
       "      <td>-4292.1980</td>\n",
       "      <td>0.5345</td>\n",
       "      <td>0.6972</td>\n",
       "      <td>0.7321</td>\n",
       "      <td>0.5345</td>\n",
       "    </tr>\n",
       "    <tr>\n",
       "      <th>2</th>\n",
       "      <td>Logit 2 (categorized data)</td>\n",
       "      <td>498.4124</td>\n",
       "      <td>-4277.5325</td>\n",
       "      <td>0.5331</td>\n",
       "      <td>0.6959</td>\n",
       "      <td>0.7310</td>\n",
       "      <td>0.5331</td>\n",
       "    </tr>\n",
       "    <tr>\n",
       "      <th>3</th>\n",
       "      <td>Probit 1 (categorized data)</td>\n",
       "      <td>498.4216</td>\n",
       "      <td>-4277.5233</td>\n",
       "      <td>0.5330</td>\n",
       "      <td>0.6959</td>\n",
       "      <td>0.7310</td>\n",
       "      <td>0.5330</td>\n",
       "    </tr>\n",
       "  </tbody>\n",
       "</table>\n",
       "</div>"
      ],
      "text/plain": [
       "                        Model name       AIC        BIC  R^2 MC Fadden  \\\n",
       "0   Logit 1 (non categorized data)  492.4892 -4292.6500         0.5350   \n",
       "1  Probit 1 (non categorized data)  492.9412 -4292.1980         0.5345   \n",
       "2       Logit 2 (categorized data)  498.4124 -4277.5325         0.5331   \n",
       "3      Probit 1 (categorized data)  498.4216 -4277.5233         0.5330   \n",
       "\n",
       "   R^2 Cragg - Uhler  R^2 Veall - Zimmermann  R^2 Estrall  \n",
       "0             0.6976                  0.7325       0.5350  \n",
       "1             0.6972                  0.7321       0.5345  \n",
       "2             0.6959                  0.7310       0.5331  \n",
       "3             0.6959                  0.7310       0.5330  "
      ]
     },
     "execution_count": 263,
     "metadata": {},
     "output_type": "execute_result"
    }
   ],
   "source": [
    "results_goodness_of_fit = goodOfFit(logit_1_results, 'Logit 1 (non categorized data)')\n",
    "results_goodness_of_fit = pd.concat([results_goodness_of_fit, goodOfFit(probit_1_results, 'Probit 1 (non categorized data)')], ignore_index= True)\n",
    "results_goodness_of_fit = pd.concat([results_goodness_of_fit, goodOfFit(logit_2_results, 'Logit 2 (categorized data)')], ignore_index= True)\n",
    "results_goodness_of_fit = pd.concat([results_goodness_of_fit, goodOfFit(probit_2_results, 'Probit 1 (categorized data)')], ignore_index= True)\n",
    "results_goodness_of_fit"
   ]
  },
  {
   "cell_type": "markdown",
   "metadata": {},
   "source": [
    "Best model is Logit 1 (non categorized data) as it has the best goodness of fit of all models. AIC and BIC is the lowest, and pseudo R^2 values are the highest."
   ]
  },
  {
   "cell_type": "markdown",
   "metadata": {},
   "source": [
    "### Prediction quality assessment "
   ]
  },
  {
   "cell_type": "code",
   "execution_count": 264,
   "metadata": {},
   "outputs": [],
   "source": [
    "def conf_matrix(model, data):\n",
    "    pred_values = model.predict(data)\n",
    "    pred_values = np.where(pred_values > 0.5, 1, 0)\n",
    "    actual_values = data['HeartDisease']\n",
    "    return pd.crosstab(actual_values, pred_values, rownames=['Actual'], colnames=['Predicted'])"
   ]
  },
  {
   "cell_type": "code",
   "execution_count": 265,
   "metadata": {},
   "outputs": [
    {
     "name": "stdout",
     "output_type": "stream",
     "text": [
      "Confusion matrix for logit model (non categorized data) - train data\n",
      "\n",
      "Predicted    0    1\n",
      "Actual             \n",
      "0          284   54\n",
      "1           44  351\n",
      "----------------------------------------------------------------\n",
      "Confusion matrix for probit model (non categorized data) - train data\n",
      "\n",
      "Predicted    0    1\n",
      "Actual             \n",
      "0          284   54\n",
      "1           44  351\n",
      "----------------------------------------------------------------\n",
      "Confusion matrix for logit model (non categorized data) - test data\n",
      "\n",
      "Predicted   0   1\n",
      "Actual           \n",
      "0          63   9\n",
      "1          13  99\n",
      "----------------------------------------------------------------\n",
      "Confusion matrix for probit model (non categorized data) - test data\n",
      "\n",
      "Predicted   0    1\n",
      "Actual            \n",
      "0          63    9\n",
      "1          12  100\n"
     ]
    }
   ],
   "source": [
    "print(\"Confusion matrix for logit model (non categorized data) - train data\\n\\n{0}\".format(conf_matrix(logit_1_results, train_data)))\n",
    "\n",
    "print(\"----------------------------------------------------------------\")\n",
    "print(\"Confusion matrix for probit model (non categorized data) - train data\\n\\n{0}\".format(conf_matrix(probit_1_results, train_data)))\n",
    "\n",
    "print(\"----------------------------------------------------------------\")\n",
    "print(\"Confusion matrix for logit model (non categorized data) - test data\\n\\n{0}\".format(conf_matrix(logit_1_results, test_data)))\n",
    "\n",
    "print(\"----------------------------------------------------------------\")\n",
    "print(\"Confusion matrix for probit model (non categorized data) - test data\\n\\n{0}\".format(conf_matrix(probit_1_results, test_data)))"
   ]
  },
  {
   "cell_type": "code",
   "execution_count": 266,
   "metadata": {},
   "outputs": [
    {
     "name": "stdout",
     "output_type": "stream",
     "text": [
      "Confusion matrix for logit model (categorized data) - train data\n",
      "\n",
      "Predicted    0    1\n",
      "Actual             \n",
      "0          288   50\n",
      "1           44  351\n",
      "----------------------------------------------------------------\n",
      "Confusion matrix for probit model (categorized data) - train data\n",
      "\n",
      "Predicted    0    1\n",
      "Actual             \n",
      "0          288   50\n",
      "1           44  351\n",
      "----------------------------------------------------------------\n",
      "Confusion matrix for logit model (categorized data) - test data\n",
      "\n",
      "Predicted   0   1\n",
      "Actual           \n",
      "0          63   9\n",
      "1          14  98\n",
      "----------------------------------------------------------------\n",
      "Confusion matrix for probit model (categorized data) - test data\n",
      "\n",
      "Predicted   0   1\n",
      "Actual           \n",
      "0          63   9\n",
      "1          14  98\n"
     ]
    }
   ],
   "source": [
    "print(\"Confusion matrix for logit model (categorized data) - train data\\n\\n{0}\".format(conf_matrix(logit_2_results, train_cat_data)))\n",
    "\n",
    "print(\"----------------------------------------------------------------\")\n",
    "print(\"Confusion matrix for probit model (categorized data) - train data\\n\\n{0}\".format(conf_matrix(probit_2_results, train_cat_data)))\n",
    "\n",
    "print(\"----------------------------------------------------------------\")\n",
    "print(\"Confusion matrix for logit model (categorized data) - test data\\n\\n{0}\".format(conf_matrix(logit_2_results, test_cat_data)))\n",
    "\n",
    "print(\"----------------------------------------------------------------\")\n",
    "print(\"Confusion matrix for probit model (categorized data) - test data\\n\\n{0}\".format(conf_matrix(probit_2_results, test_cat_data)))"
   ]
  },
  {
   "cell_type": "code",
   "execution_count": 267,
   "metadata": {},
   "outputs": [],
   "source": [
    "def prs_result(model_name, model, data):\n",
    "    pred_values = model.predict(data)\n",
    "    pred_values = np.where(pred_values > 0.5, 1, 0)\n",
    "    actual_values = data['HeartDisease']    \n",
    "\n",
    "    ACC = accuracy_score(actual_values, pred_values)\n",
    "    ER = 1 - ACC\n",
    "    SENS = recall_score(actual_values, pred_values)\n",
    "    SPEC = recall_score(actual_values, pred_values, pos_label = 0)\n",
    "    PPV = precision_score(actual_values, pred_values)\n",
    "    NPV = precision_score(actual_values, pred_values, pos_label = 0)\n",
    "\n",
    "    return pd.DataFrame([{'model': model_name, 'ACC': ACC, 'ER': ER, 'SENS': SENS, 'SPEC': SPEC, 'PPV': PPV, 'NPV': NPV}]).round(5)\n"
   ]
  },
  {
   "cell_type": "code",
   "execution_count": 268,
   "metadata": {},
   "outputs": [
    {
     "data": {
      "text/html": [
       "<div>\n",
       "<style scoped>\n",
       "    .dataframe tbody tr th:only-of-type {\n",
       "        vertical-align: middle;\n",
       "    }\n",
       "\n",
       "    .dataframe tbody tr th {\n",
       "        vertical-align: top;\n",
       "    }\n",
       "\n",
       "    .dataframe thead th {\n",
       "        text-align: right;\n",
       "    }\n",
       "</style>\n",
       "<table border=\"1\" class=\"dataframe\">\n",
       "  <thead>\n",
       "    <tr style=\"text-align: right;\">\n",
       "      <th></th>\n",
       "      <th>model</th>\n",
       "      <th>ACC</th>\n",
       "      <th>ER</th>\n",
       "      <th>SENS</th>\n",
       "      <th>SPEC</th>\n",
       "      <th>PPV</th>\n",
       "      <th>NPV</th>\n",
       "    </tr>\n",
       "  </thead>\n",
       "  <tbody>\n",
       "    <tr>\n",
       "      <th>0</th>\n",
       "      <td>Logit model (non categorized data)</td>\n",
       "      <td>0.88043</td>\n",
       "      <td>0.11957</td>\n",
       "      <td>0.88393</td>\n",
       "      <td>0.875</td>\n",
       "      <td>0.91667</td>\n",
       "      <td>0.82895</td>\n",
       "    </tr>\n",
       "    <tr>\n",
       "      <th>1</th>\n",
       "      <td>Probit model (non categorized data)</td>\n",
       "      <td>0.88587</td>\n",
       "      <td>0.11413</td>\n",
       "      <td>0.89286</td>\n",
       "      <td>0.875</td>\n",
       "      <td>0.91743</td>\n",
       "      <td>0.84000</td>\n",
       "    </tr>\n",
       "    <tr>\n",
       "      <th>2</th>\n",
       "      <td>Logit model (categorized data)</td>\n",
       "      <td>0.87500</td>\n",
       "      <td>0.12500</td>\n",
       "      <td>0.87500</td>\n",
       "      <td>0.875</td>\n",
       "      <td>0.91589</td>\n",
       "      <td>0.81818</td>\n",
       "    </tr>\n",
       "    <tr>\n",
       "      <th>3</th>\n",
       "      <td>Probit model (categorized data)</td>\n",
       "      <td>0.87500</td>\n",
       "      <td>0.12500</td>\n",
       "      <td>0.87500</td>\n",
       "      <td>0.875</td>\n",
       "      <td>0.91589</td>\n",
       "      <td>0.81818</td>\n",
       "    </tr>\n",
       "  </tbody>\n",
       "</table>\n",
       "</div>"
      ],
      "text/plain": [
       "                                 model      ACC       ER     SENS   SPEC  \\\n",
       "0   Logit model (non categorized data)  0.88043  0.11957  0.88393  0.875   \n",
       "1  Probit model (non categorized data)  0.88587  0.11413  0.89286  0.875   \n",
       "2       Logit model (categorized data)  0.87500  0.12500  0.87500  0.875   \n",
       "3      Probit model (categorized data)  0.87500  0.12500  0.87500  0.875   \n",
       "\n",
       "       PPV      NPV  \n",
       "0  0.91667  0.82895  \n",
       "1  0.91743  0.84000  \n",
       "2  0.91589  0.81818  \n",
       "3  0.91589  0.81818  "
      ]
     },
     "execution_count": 268,
     "metadata": {},
     "output_type": "execute_result"
    }
   ],
   "source": [
    "presicions_models_score = prs_result('Logit model (non categorized data)', logit_1_results, test_data)\n",
    "presicions_models_score = pd.concat([presicions_models_score, prs_result('Probit model (non categorized data)', probit_1_results, test_data)], ignore_index = True)\n",
    "presicions_models_score = pd.concat([presicions_models_score, prs_result('Logit model (categorized data)', logit_2_results, test_cat_data)], ignore_index = True)\n",
    "presicions_models_score = pd.concat([presicions_models_score, prs_result('Probit model (categorized data)', probit_2_results, test_cat_data)], ignore_index = True)\n",
    "presicions_models_score"
   ]
  },
  {
   "cell_type": "markdown",
   "metadata": {},
   "source": [
    "Logit and probit model for categorized data are worse than models with non categorized data in terms of assessment of the quality of prediction. But it should be pointed out that 87,5% of accurancy is still good precision.<br>\n",
    "Between logit and probit model for non categorized data they have similar quality of prediction, but probit is a little better, because of higher values of prediction indicators.<br>\n",
    "For this particular model interpretation of these indicatiors are below:\n",
    "<ul>\n",
    "<li>88,59% of units are correctly classified.</li>\n",
    "<li>11,41% of units are incorrectly classified.</li>\n",
    "<li>89.29% 1 out of all the observed 1 were correctly classified.</li>\n",
    "<li>87,5% 0 out of all the observed 0 were correctly classified.</li>\n",
    "<li>91,74% 1 out of all forecasted 1 were correctly classified.</li>\n",
    "<li>84% 0 out of all forecasted 0 were correctly classified.</li>\n",
    "</ul>"
   ]
  },
  {
   "cell_type": "markdown",
   "metadata": {},
   "source": [
    "### ROC Function"
   ]
  },
  {
   "cell_type": "code",
   "execution_count": 269,
   "metadata": {},
   "outputs": [],
   "source": [
    "#Method to create roc curve\n",
    "def roc_plot(model_name, model, data, y_test, color = '#15799e'):\n",
    "    y_prediction = model.predict(data)\n",
    "    specifity, sensivity, thresholds = roc_curve(y_test, y_prediction)\n",
    "\n",
    "    roc_df = pd.DataFrame({'Sensivity': sensivity, 'Specifity': 1 - specifity})\n",
    "    auc = roc_auc_score(y_test, y_prediction)\n",
    "\n",
    "    ax = roc_df.plot(x = 'Specifity', y = 'Sensivity', figsize = (10,7), legend = False, color = color, linewidth=3)\n",
    "    ax.set_ylim(-0.02,1.02)\n",
    "    ax.set_xlim(1.02,-0.02)\n",
    "    ax.plot((1,0),(0,1), color = 'grey')\n",
    "    ax.set_ylabel('Sensivity', fontsize = 16, color = 'grey')\n",
    "    ax.set_xlabel('Specifity', fontsize = 16, color = 'grey')\n",
    "    ax.set_title('ROC curve for {0}'.format(model_name), fontsize = 17, pad=20)\n",
    "    ax.text(0.05, 0.05, \"AUC = {0}\".format(str(round(auc,6))),verticalalignment='bottom', horizontalalignment='right', fontsize = 15, color = color, weight= 'bold')\n",
    "    plt.show()"
   ]
  },
  {
   "cell_type": "code",
   "execution_count": 270,
   "metadata": {},
   "outputs": [
    {
     "data": {
      "image/png": "[encoded data removed]",
      "text/plain": [
       "<Figure size 720x504 with 1 Axes>"
      ]
     },
     "metadata": {},
     "output_type": "display_data"
    },
    {
     "data": {
      "image/png": "[encoded data removed]",
      "text/plain": [
       "<Figure size 720x504 with 1 Axes>"
      ]
     },
     "metadata": {},
     "output_type": "display_data"
    },
    {
     "data": {
      "image/png": "[encoded data removed]",
      "text/plain": [
       "<Figure size 720x504 with 1 Axes>"
      ]
     },
     "metadata": {},
     "output_type": "display_data"
    },
    {
     "data": {
      "image/png": "[encoded data removed]",
      "text/plain": [
       "<Figure size 720x504 with 1 Axes>"
      ]
     },
     "metadata": {},
     "output_type": "display_data"
    }
   ],
   "source": [
    "roc_plot('Logit model (non categorized data)', logit_1_results, test_data, y_test)\n",
    "roc_plot('Probit model (non categorized data)', probit_1_results, test_data, y_test, color = '#008040')\n",
    "roc_plot('Logit model (categorized data)', logit_2_results, test_cat_data, y_cat_test, color = '#990073')\n",
    "roc_plot('Probit model (categorized data)', probit_2_results, test_cat_data, y_cat_test, color = '#990000')"
   ]
  },
  {
   "cell_type": "markdown",
   "metadata": {},
   "source": [
    "Based on ROC curve and AUC all models have excellent predictive capability yet models with categorized data have slightly better auc score. Due to worse presicion scores in the end better ones are logit and probit models for non categorized data. "
   ]
  },
  {
   "cell_type": "markdown",
   "metadata": {},
   "source": [
    "## Summary"
   ]
  },
  {
   "cell_type": "markdown",
   "metadata": {},
   "source": [
    "### Coef for logit model non categorized data"
   ]
  },
  {
   "cell_type": "code",
   "execution_count": 271,
   "metadata": {},
   "outputs": [
    {
     "data": {
      "text/html": [
       "<div>\n",
       "<style scoped>\n",
       "    .dataframe tbody tr th:only-of-type {\n",
       "        vertical-align: middle;\n",
       "    }\n",
       "\n",
       "    .dataframe tbody tr th {\n",
       "        vertical-align: top;\n",
       "    }\n",
       "\n",
       "    .dataframe thead th {\n",
       "        text-align: right;\n",
       "    }\n",
       "</style>\n",
       "<table border=\"1\" class=\"dataframe\">\n",
       "  <thead>\n",
       "    <tr style=\"text-align: right;\">\n",
       "      <th></th>\n",
       "      <th>index</th>\n",
       "      <th>0</th>\n",
       "      <th>exp(x)</th>\n",
       "      <th>exp(x) - 1 * 100</th>\n",
       "    </tr>\n",
       "  </thead>\n",
       "  <tbody>\n",
       "    <tr>\n",
       "      <th>0</th>\n",
       "      <td>Intercept</td>\n",
       "      <td>-0.25</td>\n",
       "      <td>0.78</td>\n",
       "      <td>-22.2</td>\n",
       "    </tr>\n",
       "    <tr>\n",
       "      <th>1</th>\n",
       "      <td>Sex[T.M]</td>\n",
       "      <td>1.42</td>\n",
       "      <td>4.15</td>\n",
       "      <td>315.0</td>\n",
       "    </tr>\n",
       "    <tr>\n",
       "      <th>2</th>\n",
       "      <td>ChestPainType[T.ATA]</td>\n",
       "      <td>-1.77</td>\n",
       "      <td>0.17</td>\n",
       "      <td>-82.9</td>\n",
       "    </tr>\n",
       "    <tr>\n",
       "      <th>3</th>\n",
       "      <td>ChestPainType[T.NAP]</td>\n",
       "      <td>-1.70</td>\n",
       "      <td>0.18</td>\n",
       "      <td>-81.7</td>\n",
       "    </tr>\n",
       "    <tr>\n",
       "      <th>4</th>\n",
       "      <td>ChestPainType[T.TA]</td>\n",
       "      <td>-1.52</td>\n",
       "      <td>0.22</td>\n",
       "      <td>-78.2</td>\n",
       "    </tr>\n",
       "    <tr>\n",
       "      <th>5</th>\n",
       "      <td>FastingBS[T.1]</td>\n",
       "      <td>1.06</td>\n",
       "      <td>2.89</td>\n",
       "      <td>189.3</td>\n",
       "    </tr>\n",
       "    <tr>\n",
       "      <th>6</th>\n",
       "      <td>ExerciseAngina[T.Y]</td>\n",
       "      <td>1.00</td>\n",
       "      <td>2.71</td>\n",
       "      <td>171.3</td>\n",
       "    </tr>\n",
       "    <tr>\n",
       "      <th>7</th>\n",
       "      <td>ST_Slope[T.Flat]</td>\n",
       "      <td>1.19</td>\n",
       "      <td>3.30</td>\n",
       "      <td>230.1</td>\n",
       "    </tr>\n",
       "    <tr>\n",
       "      <th>8</th>\n",
       "      <td>ST_Slope[T.Up]</td>\n",
       "      <td>-1.35</td>\n",
       "      <td>0.26</td>\n",
       "      <td>-74.0</td>\n",
       "    </tr>\n",
       "    <tr>\n",
       "      <th>9</th>\n",
       "      <td>Cholesterol</td>\n",
       "      <td>-0.00</td>\n",
       "      <td>1.00</td>\n",
       "      <td>-0.5</td>\n",
       "    </tr>\n",
       "    <tr>\n",
       "      <th>10</th>\n",
       "      <td>Oldpeak</td>\n",
       "      <td>0.44</td>\n",
       "      <td>1.55</td>\n",
       "      <td>55.0</td>\n",
       "    </tr>\n",
       "  </tbody>\n",
       "</table>\n",
       "</div>"
      ],
      "text/plain": [
       "                   index     0  exp(x)  exp(x) - 1 * 100\n",
       "0              Intercept -0.25    0.78             -22.2\n",
       "1               Sex[T.M]  1.42    4.15             315.0\n",
       "2   ChestPainType[T.ATA] -1.77    0.17             -82.9\n",
       "3   ChestPainType[T.NAP] -1.70    0.18             -81.7\n",
       "4    ChestPainType[T.TA] -1.52    0.22             -78.2\n",
       "5         FastingBS[T.1]  1.06    2.89             189.3\n",
       "6    ExerciseAngina[T.Y]  1.00    2.71             171.3\n",
       "7       ST_Slope[T.Flat]  1.19    3.30             230.1\n",
       "8         ST_Slope[T.Up] -1.35    0.26             -74.0\n",
       "9            Cholesterol -0.00    1.00              -0.5\n",
       "10               Oldpeak  0.44    1.55              55.0"
      ]
     },
     "execution_count": 271,
     "metadata": {},
     "output_type": "execute_result"
    }
   ],
   "source": [
    "logit_1_coef = pd.DataFrame(logit_1_results.params).reset_index()\n",
    "logit_1_coef['exp(x)'] = logit_1_coef[0].apply(lambda x: exp(x))\n",
    "logit_1_coef['exp(x) - 1 * 100'] = logit_1_coef[0].apply(lambda x: round((exp(x) - 1) * 100,1))\n",
    "logit_1_coef.round(2)"
   ]
  },
  {
   "cell_type": "markdown",
   "metadata": {},
   "source": [
    "### Final thoughts"
   ]
  },
  {
   "cell_type": "markdown",
   "metadata": {},
   "source": [
    "Heart disease is an extremely serious disease that causes the death of a large number of people in the world. The prediction of having such disease can prevent death for many people and help in faster detection of such disease. For the purposes of analyzing this phenomenon, 4 models (2 logit and 2 probit) were created for categorized data (data categorized on the basis of various statistics and medical values) and uncategorized (cleared data). The following variables were used to create these models: Sex, ChestPainType, Cholesterol, FastingBS, ExerciseAngina, Oldpeak, ST_Slope. The remaining variables were rejected from the models due to statistical insignificance.<br><br>\n",
    "After performing the tests and assessing the predictions, the logit and probit models for uncategorized data turned out to be the best models. <br><br>\n",
    "These models are as follows:\n",
    "<ul>\n",
    "<li><font color=\"#33b5e5\">Logit model non categorized data</font><br>\n",
    "\n",
    "$logit(HealthDisease) = -0,2513 + 1,4231 * SexM - 1,7687 * ChestPainTypeATA - 1,6955 * ChestPainTypeNAP - 1,5225 * ChestPainTypeTA + 0,9980 * ExerciseAnginaY + 1,1941 * ST_SlopeFlat - 1,3463 * ST_SlopeUp - 0,0045 * Cholesterol + 1,0622 * FastingBS  + 0,4383 * Oldpeak $\n",
    "</li>\n",
    "\n",
    "<li> Interpretation of parameters\n",
    "    <ul>\n",
    "    <li>Chance of having heart disease in reference group is 0,78, where this group has characteristics such as: Sex: F, Chest pain type: ASY, Exercise angina: N, ST slope: peek, Fasting BS: 0.</li>\n",
    "    <li>SexM - The chance of having heart disease among men is 315% higher than among women ceteris paribus.</li>\n",
    "    <li>ChestPainTypeATA - The chance of having heart disease among people with ATA chest pain type is 83% lower than among people with ASY chest pain type ceteris paribus.</li>\n",
    "    <li>ChestPainTypeNAP- The chance of having heart disease among people with NAP chest pain type is 82% lower than among people with ASY chest pain type ceteris paribus.</li>\n",
    "    <li>ChestPainTypeTA - The chance of having heart disease among people with TA chest pain type is 78% lower than among people with ASY chest pain type ceteris paribus.</li>\n",
    "    <li>ExerciseAnginaY - People with exercise-induced angina are 171% more likely to have heart disease than those without exercise-induced angina ceteris paribus</li>\n",
    "    <li>ST_SlopeFlat - The chance of having heart disease among people who have a flat peak ST segment slope is 230% higher than among people who have a peak ST slope ceteris paribus.</li>\n",
    "    <li>ST_SlopeUp - The chance of having heart disease among people who have a ST slope UP is 74% lower than among people who have a peak ST slope ceteris paribus.</li>\n",
    "    <li>Cholesterol - If the cholesterol level rises by 1, the chance of developing heart disease will decrease by 0.5%.</li>\n",
    "    <li>FastingBS - The chance of having heart disease among people with fasting blood sugar levels above 120 mg / dL is 189% higher than among people with fasting blood sugar levels below 120 mg / dL ceteris paribus.</li>\n",
    "    <li>Oldpeak - If the oldpeak level rises by 1, the chance of having heart disease will increase by 55%.</li>\n",
    "    </ul><br>\n",
    "</li>\n",
    "\n",
    "<li><font color=\"#008040\">Probit model non categorized data</font><br>\n",
    "\n",
    "$probit(HealthDisease) = -0,0339 + 0,7535 * SexM - 1,0218 * ChestPainTypeATA - 0,9685 * ChestPainTypeNAP - 0,8236 * ChestPainTypeTA + 0,5547 * ExerciseAnginaY + 0,6148 * ST_SlopeFlat - 0,8283 * ST_SlopeUp - 0,0025 * Cholesterol + 0,6243 * FastingBS  + 0,2277 * Oldpeak $\n",
    "</li>\n",
    "<li> Interpretation of parameters\n",
    "    <ul>\n",
    "    <li>Sex - stimulant</li>\n",
    "    <li>ChestPainType (all types) - destimulant</li>\n",
    "    <li>ExerciseAngina - stimulant</li>\n",
    "    <li>ST_SlopeFlat - stimulant</li>\n",
    "    <li>ST_SlopeUp - destimulant</li>\n",
    "    <li>Cholesterol - destimulant</li>\n",
    "    <li>FastingBS - stimulant</li>\n",
    "    <li>Oldpeak - stimulant</li>\n",
    "    </ul>\n",
    "</li>\n",
    "</ul>\n"
   ]
  },
  {
   "cell_type": "markdown",
   "metadata": {},
   "source": [
    "### Model summaries"
   ]
  },
  {
   "cell_type": "code",
   "execution_count": 272,
   "metadata": {},
   "outputs": [
    {
     "name": "stdout",
     "output_type": "stream",
     "text": [
      "LOGIT MODEL SUMMARY\n",
      "\n",
      "---------------------------------------\n",
      "\n",
      "                 Generalized Linear Model Regression Results                  \n",
      "==============================================================================\n",
      "Dep. Variable:           HeartDisease   No. Observations:                  733\n",
      "Model:                            GLM   Df Residuals:                      722\n",
      "Model Family:                Binomial   Df Model:                           10\n",
      "Link Function:                  Logit   Scale:                          1.0000\n",
      "Method:                          IRLS   Log-Likelihood:                -235.24\n",
      "Date:                Sun, 24 Jul 2022   Deviance:                       470.49\n",
      "Time:                        14:38:42   Pearson chi2:                     705.\n",
      "No. Iterations:                     6   Pseudo R-squ. (CS):             0.5221\n",
      "Covariance Type:            nonrobust                                         \n",
      "========================================================================================\n",
      "                           coef    std err          z      P>|z|      [0.025      0.975]\n",
      "----------------------------------------------------------------------------------------\n",
      "Intercept               -0.2514      0.643     -0.391      0.696      -1.512       1.009\n",
      "Sex[T.M]                 1.4231      0.318      4.477      0.000       0.800       2.046\n",
      "ChestPainType[T.ATA]    -1.7687      0.378     -4.676      0.000      -2.510      -1.027\n",
      "ChestPainType[T.NAP]    -1.6955      0.295     -5.753      0.000      -2.273      -1.118\n",
      "ChestPainType[T.TA]     -1.5225      0.490     -3.104      0.002      -2.484      -0.561\n",
      "FastingBS[T.1]           1.0622      0.306      3.466      0.001       0.462       1.663\n",
      "ExerciseAngina[T.Y]      0.9980      0.264      3.781      0.000       0.481       1.515\n",
      "ST_Slope[T.Flat]         1.1941      0.481      2.481      0.013       0.251       2.137\n",
      "ST_Slope[T.Up]          -1.3463      0.502     -2.680      0.007      -2.331      -0.362\n",
      "Cholesterol             -0.0045      0.001     -3.844      0.000      -0.007      -0.002\n",
      "Oldpeak                  0.4383      0.129      3.397      0.001       0.185       0.691\n",
      "========================================================================================\n",
      "---------------------------------------\n",
      "\n",
      "PROBIT MODEL SUMMARY\n",
      "\n",
      "---------------------------------------\n",
      "\n",
      "                 Generalized Linear Model Regression Results                  \n",
      "==============================================================================\n",
      "Dep. Variable:           HeartDisease   No. Observations:                  733\n",
      "Model:                            GLM   Df Residuals:                      722\n",
      "Model Family:                Binomial   Df Model:                           10\n",
      "Link Function:                 probit   Scale:                          1.0000\n",
      "Method:                          IRLS   Log-Likelihood:                -235.47\n",
      "Date:                Sun, 24 Jul 2022   Deviance:                       470.94\n",
      "Time:                        14:38:42   Pearson chi2:                     713.\n",
      "No. Iterations:                     7   Pseudo R-squ. (CS):             0.5218\n",
      "Covariance Type:            nonrobust                                         \n",
      "========================================================================================\n",
      "                           coef    std err          z      P>|z|      [0.025      0.975]\n",
      "----------------------------------------------------------------------------------------\n",
      "Intercept               -0.0339      0.353     -0.096      0.924      -0.726       0.659\n",
      "Sex[T.M]                 0.7535      0.173      4.367      0.000       0.415       1.092\n",
      "ChestPainType[T.ATA]    -1.0218      0.204     -5.008      0.000      -1.422      -0.622\n",
      "ChestPainType[T.NAP]    -0.9685      0.160     -6.041      0.000      -1.283      -0.654\n",
      "ChestPainType[T.TA]     -0.8236      0.276     -2.981      0.003      -1.365      -0.282\n",
      "FastingBS[T.1]           0.6243      0.167      3.745      0.000       0.298       0.951\n",
      "ExerciseAngina[T.Y]      0.5547      0.147      3.771      0.000       0.266       0.843\n",
      "ST_Slope[T.Flat]         0.6148      0.264      2.324      0.020       0.096       1.133\n",
      "ST_Slope[T.Up]          -0.8283      0.280     -2.963      0.003      -1.376      -0.280\n",
      "Cholesterol             -0.0025      0.001     -3.878      0.000      -0.004      -0.001\n",
      "Oldpeak                  0.2277      0.071      3.211      0.001       0.089       0.367\n",
      "========================================================================================\n"
     ]
    }
   ],
   "source": [
    "print('LOGIT MODEL SUMMARY')\n",
    "print('\\n---------------------------------------\\n')\n",
    "print(logit_1_results.summary())\n",
    "print('---------------------------------------')\n",
    "print('\\nPROBIT MODEL SUMMARY')\n",
    "print('\\n---------------------------------------\\n')\n",
    "print(probit_1_results.summary())"
   ]
  }
 ],
 "metadata": {
  "kernelspec": {
   "display_name": "Python 3.9.7 ('basic_env')",
   "language": "python",
   "name": "python3"
  },
  "language_info": {
   "codemirror_mode": {
    "name": "ipython",
    "version": 3
   },
   "file_extension": ".py",
   "mimetype": "text/x-python",
   "name": "python",
   "nbconvert_exporter": "python",
   "pygments_lexer": "ipython3",
   "version": "3.9.7"
  },
  "orig_nbformat": 4,
  "vscode": {
   "interpreter": {
    "hash": "1c77645b5b5736ec99ecc78a529e41c58ba7f7311472befa4a63bf5c711f4563"
   }
  }
 },
 "nbformat": 4,
 "nbformat_minor": 2
}
